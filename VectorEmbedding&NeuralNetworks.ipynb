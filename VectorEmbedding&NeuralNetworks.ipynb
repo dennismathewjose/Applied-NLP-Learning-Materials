{
 "cells": [
  {
   "cell_type": "code",
   "execution_count": 1,
   "id": "b5d48c9f",
   "metadata": {
    "_cell_guid": "b1076dfc-b9ad-4769-8c92-a6c4dae69d19",
    "_uuid": "8f2839f25d086af736a60e9eeb907d3b93b6e0e5",
    "execution": {
     "iopub.execute_input": "2025-03-10T03:25:04.092531Z",
     "iopub.status.busy": "2025-03-10T03:25:04.092001Z",
     "iopub.status.idle": "2025-03-10T03:25:05.159594Z",
     "shell.execute_reply": "2025-03-10T03:25:05.158203Z"
    },
    "papermill": {
     "duration": 1.079318,
     "end_time": "2025-03-10T03:25:05.161937",
     "exception": false,
     "start_time": "2025-03-10T03:25:04.082619",
     "status": "completed"
    },
    "tags": []
   },
   "outputs": [
    {
     "name": "stdout",
     "output_type": "stream",
     "text": [
      "/kaggle/input/question-pairs-dataset/questions.csv\n"
     ]
    }
   ],
   "source": [
    "# This Python 3 environment comes with many helpful analytics libraries installed\n",
    "# It is defined by the kaggle/python Docker image: https://github.com/kaggle/docker-python\n",
    "# For example, here's several helpful packages to load\n",
    "\n",
    "import numpy as np # linear algebra\n",
    "import pandas as pd # data processing, CSV file I/O (e.g. pd.read_csv)\n",
    "\n",
    "# Input data files are available in the read-only \"../input/\" directory\n",
    "# For example, running this (by clicking run or pressing Shift+Enter) will list all files under the input directory\n",
    "\n",
    "import os\n",
    "for dirname, _, filenames in os.walk('/kaggle/input'):\n",
    "    for filename in filenames:\n",
    "        print(os.path.join(dirname, filename))\n",
    "\n",
    "# You can write up to 20GB to the current directory (/kaggle/working/) that gets preserved as output when you create a version using \"Save & Run All\" \n",
    "# You can also write temporary files to /kaggle/temp/, but they won't be saved outside of the current session"
   ]
  },
  {
   "cell_type": "markdown",
   "id": "760bccfb",
   "metadata": {
    "papermill": {
     "duration": 0.006431,
     "end_time": "2025-03-10T03:25:05.176219",
     "exception": false,
     "start_time": "2025-03-10T03:25:05.169788",
     "status": "completed"
    },
    "tags": []
   },
   "source": [
    "# 1. Question 1: Vector Embeddings"
   ]
  },
  {
   "cell_type": "markdown",
   "id": "d75a200e",
   "metadata": {
    "papermill": {
     "duration": 0.006297,
     "end_time": "2025-03-10T03:25:05.189390",
     "exception": false,
     "start_time": "2025-03-10T03:25:05.183093",
     "status": "completed"
    },
    "tags": []
   },
   "source": [
    "## 1.1 Data Setup"
   ]
  },
  {
   "cell_type": "code",
   "execution_count": 2,
   "id": "22a48529",
   "metadata": {
    "execution": {
     "iopub.execute_input": "2025-03-10T03:25:05.204301Z",
     "iopub.status.busy": "2025-03-10T03:25:05.203593Z",
     "iopub.status.idle": "2025-03-10T03:25:07.338531Z",
     "shell.execute_reply": "2025-03-10T03:25:07.337281Z"
    },
    "papermill": {
     "duration": 2.1447,
     "end_time": "2025-03-10T03:25:07.340734",
     "exception": false,
     "start_time": "2025-03-10T03:25:05.196034",
     "status": "completed"
    },
    "tags": []
   },
   "outputs": [],
   "source": [
    "#Load the Quora Question Pairs dataset\n",
    "df = pd.read_csv(\"/kaggle/input/question-pairs-dataset/questions.csv\")"
   ]
  },
  {
   "cell_type": "code",
   "execution_count": 3,
   "id": "093b31ee",
   "metadata": {
    "execution": {
     "iopub.execute_input": "2025-03-10T03:25:07.355588Z",
     "iopub.status.busy": "2025-03-10T03:25:07.355207Z",
     "iopub.status.idle": "2025-03-10T03:25:07.384575Z",
     "shell.execute_reply": "2025-03-10T03:25:07.383332Z"
    },
    "papermill": {
     "duration": 0.039198,
     "end_time": "2025-03-10T03:25:07.386796",
     "exception": false,
     "start_time": "2025-03-10T03:25:07.347598",
     "status": "completed"
    },
    "tags": []
   },
   "outputs": [
    {
     "data": {
      "text/html": [
       "<div>\n",
       "<style scoped>\n",
       "    .dataframe tbody tr th:only-of-type {\n",
       "        vertical-align: middle;\n",
       "    }\n",
       "\n",
       "    .dataframe tbody tr th {\n",
       "        vertical-align: top;\n",
       "    }\n",
       "\n",
       "    .dataframe thead th {\n",
       "        text-align: right;\n",
       "    }\n",
       "</style>\n",
       "<table border=\"1\" class=\"dataframe\">\n",
       "  <thead>\n",
       "    <tr style=\"text-align: right;\">\n",
       "      <th></th>\n",
       "      <th>id</th>\n",
       "      <th>qid1</th>\n",
       "      <th>qid2</th>\n",
       "      <th>question1</th>\n",
       "      <th>question2</th>\n",
       "      <th>is_duplicate</th>\n",
       "    </tr>\n",
       "  </thead>\n",
       "  <tbody>\n",
       "    <tr>\n",
       "      <th>0</th>\n",
       "      <td>0</td>\n",
       "      <td>1</td>\n",
       "      <td>2</td>\n",
       "      <td>What is the step by step guide to invest in sh...</td>\n",
       "      <td>What is the step by step guide to invest in sh...</td>\n",
       "      <td>0</td>\n",
       "    </tr>\n",
       "    <tr>\n",
       "      <th>1</th>\n",
       "      <td>1</td>\n",
       "      <td>3</td>\n",
       "      <td>4</td>\n",
       "      <td>What is the story of Kohinoor (Koh-i-Noor) Dia...</td>\n",
       "      <td>What would happen if the Indian government sto...</td>\n",
       "      <td>0</td>\n",
       "    </tr>\n",
       "    <tr>\n",
       "      <th>2</th>\n",
       "      <td>2</td>\n",
       "      <td>5</td>\n",
       "      <td>6</td>\n",
       "      <td>How can I increase the speed of my internet co...</td>\n",
       "      <td>How can Internet speed be increased by hacking...</td>\n",
       "      <td>0</td>\n",
       "    </tr>\n",
       "    <tr>\n",
       "      <th>3</th>\n",
       "      <td>3</td>\n",
       "      <td>7</td>\n",
       "      <td>8</td>\n",
       "      <td>Why am I mentally very lonely? How can I solve...</td>\n",
       "      <td>Find the remainder when [math]23^{24}[/math] i...</td>\n",
       "      <td>0</td>\n",
       "    </tr>\n",
       "    <tr>\n",
       "      <th>4</th>\n",
       "      <td>4</td>\n",
       "      <td>9</td>\n",
       "      <td>10</td>\n",
       "      <td>Which one dissolve in water quikly sugar, salt...</td>\n",
       "      <td>Which fish would survive in salt water?</td>\n",
       "      <td>0</td>\n",
       "    </tr>\n",
       "  </tbody>\n",
       "</table>\n",
       "</div>"
      ],
      "text/plain": [
       "   id  qid1  qid2                                          question1  \\\n",
       "0   0     1     2  What is the step by step guide to invest in sh...   \n",
       "1   1     3     4  What is the story of Kohinoor (Koh-i-Noor) Dia...   \n",
       "2   2     5     6  How can I increase the speed of my internet co...   \n",
       "3   3     7     8  Why am I mentally very lonely? How can I solve...   \n",
       "4   4     9    10  Which one dissolve in water quikly sugar, salt...   \n",
       "\n",
       "                                           question2  is_duplicate  \n",
       "0  What is the step by step guide to invest in sh...             0  \n",
       "1  What would happen if the Indian government sto...             0  \n",
       "2  How can Internet speed be increased by hacking...             0  \n",
       "3  Find the remainder when [math]23^{24}[/math] i...             0  \n",
       "4            Which fish would survive in salt water?             0  "
      ]
     },
     "execution_count": 3,
     "metadata": {},
     "output_type": "execute_result"
    }
   ],
   "source": [
    "#view the first few records\n",
    "df.head()"
   ]
  },
  {
   "cell_type": "code",
   "execution_count": 4,
   "id": "baebba99",
   "metadata": {
    "execution": {
     "iopub.execute_input": "2025-03-10T03:25:07.402036Z",
     "iopub.status.busy": "2025-03-10T03:25:07.401583Z",
     "iopub.status.idle": "2025-03-10T03:25:07.552961Z",
     "shell.execute_reply": "2025-03-10T03:25:07.551570Z"
    },
    "papermill": {
     "duration": 0.161336,
     "end_time": "2025-03-10T03:25:07.555119",
     "exception": false,
     "start_time": "2025-03-10T03:25:07.393783",
     "status": "completed"
    },
    "tags": []
   },
   "outputs": [],
   "source": [
    "#Handle the missing data by dropping the NaN values in Question1 and Question2\n",
    "df = df.dropna(subset=[\"question1\", \"question2\"])"
   ]
  },
  {
   "cell_type": "markdown",
   "id": "2a017553",
   "metadata": {
    "papermill": {
     "duration": 0.006609,
     "end_time": "2025-03-10T03:25:07.568827",
     "exception": false,
     "start_time": "2025-03-10T03:25:07.562218",
     "status": "completed"
    },
    "tags": []
   },
   "source": [
    "## 1.2 Text Preprocessing & Embedding"
   ]
  },
  {
   "cell_type": "markdown",
   "id": "ca5f3fb5",
   "metadata": {
    "papermill": {
     "duration": 0.007112,
     "end_time": "2025-03-10T03:25:07.582985",
     "exception": false,
     "start_time": "2025-03-10T03:25:07.575873",
     "status": "completed"
    },
    "tags": []
   },
   "source": [
    "### 1. Preprocessing:\n",
    "- Preprocess your data with whichever methods you deem fit for cleaning text"
   ]
  },
  {
   "cell_type": "code",
   "execution_count": 5,
   "id": "a5ddce51",
   "metadata": {
    "execution": {
     "iopub.execute_input": "2025-03-10T03:25:07.598767Z",
     "iopub.status.busy": "2025-03-10T03:25:07.598363Z",
     "iopub.status.idle": "2025-03-10T03:25:13.581237Z",
     "shell.execute_reply": "2025-03-10T03:25:13.580071Z"
    },
    "papermill": {
     "duration": 5.993087,
     "end_time": "2025-03-10T03:25:13.583403",
     "exception": false,
     "start_time": "2025-03-10T03:25:07.590316",
     "status": "completed"
    },
    "tags": []
   },
   "outputs": [],
   "source": [
    "import re\n",
    "def preporcessing(text):\n",
    "    text = text.lower()  # Convert to lowercase\n",
    "    text = re.sub(r'[^a-zA-Z0-9\\s]', '', text)  # Remove special characters\n",
    "    text = re.sub(r'\\s+', ' ', text).strip()  # Remove extra spaces\n",
    "    return text\n",
    "\n",
    "# Apply preprocessing\n",
    "df[\"question1\"] = df[\"question1\"].apply(preporcessing)\n",
    "df[\"question2\"] = df[\"question2\"].apply(preporcessing)"
   ]
  },
  {
   "cell_type": "code",
   "execution_count": 6,
   "id": "e0174ded",
   "metadata": {
    "execution": {
     "iopub.execute_input": "2025-03-10T03:25:13.598874Z",
     "iopub.status.busy": "2025-03-10T03:25:13.598443Z",
     "iopub.status.idle": "2025-03-10T03:25:13.609528Z",
     "shell.execute_reply": "2025-03-10T03:25:13.608449Z"
    },
    "papermill": {
     "duration": 0.021008,
     "end_time": "2025-03-10T03:25:13.611516",
     "exception": false,
     "start_time": "2025-03-10T03:25:13.590508",
     "status": "completed"
    },
    "tags": []
   },
   "outputs": [
    {
     "data": {
      "text/html": [
       "<div>\n",
       "<style scoped>\n",
       "    .dataframe tbody tr th:only-of-type {\n",
       "        vertical-align: middle;\n",
       "    }\n",
       "\n",
       "    .dataframe tbody tr th {\n",
       "        vertical-align: top;\n",
       "    }\n",
       "\n",
       "    .dataframe thead th {\n",
       "        text-align: right;\n",
       "    }\n",
       "</style>\n",
       "<table border=\"1\" class=\"dataframe\">\n",
       "  <thead>\n",
       "    <tr style=\"text-align: right;\">\n",
       "      <th></th>\n",
       "      <th>id</th>\n",
       "      <th>qid1</th>\n",
       "      <th>qid2</th>\n",
       "      <th>question1</th>\n",
       "      <th>question2</th>\n",
       "      <th>is_duplicate</th>\n",
       "    </tr>\n",
       "  </thead>\n",
       "  <tbody>\n",
       "    <tr>\n",
       "      <th>0</th>\n",
       "      <td>0</td>\n",
       "      <td>1</td>\n",
       "      <td>2</td>\n",
       "      <td>what is the step by step guide to invest in sh...</td>\n",
       "      <td>what is the step by step guide to invest in sh...</td>\n",
       "      <td>0</td>\n",
       "    </tr>\n",
       "    <tr>\n",
       "      <th>1</th>\n",
       "      <td>1</td>\n",
       "      <td>3</td>\n",
       "      <td>4</td>\n",
       "      <td>what is the story of kohinoor kohinoor diamond</td>\n",
       "      <td>what would happen if the indian government sto...</td>\n",
       "      <td>0</td>\n",
       "    </tr>\n",
       "    <tr>\n",
       "      <th>2</th>\n",
       "      <td>2</td>\n",
       "      <td>5</td>\n",
       "      <td>6</td>\n",
       "      <td>how can i increase the speed of my internet co...</td>\n",
       "      <td>how can internet speed be increased by hacking...</td>\n",
       "      <td>0</td>\n",
       "    </tr>\n",
       "    <tr>\n",
       "      <th>3</th>\n",
       "      <td>3</td>\n",
       "      <td>7</td>\n",
       "      <td>8</td>\n",
       "      <td>why am i mentally very lonely how can i solve it</td>\n",
       "      <td>find the remainder when math2324math is divide...</td>\n",
       "      <td>0</td>\n",
       "    </tr>\n",
       "    <tr>\n",
       "      <th>4</th>\n",
       "      <td>4</td>\n",
       "      <td>9</td>\n",
       "      <td>10</td>\n",
       "      <td>which one dissolve in water quikly sugar salt ...</td>\n",
       "      <td>which fish would survive in salt water</td>\n",
       "      <td>0</td>\n",
       "    </tr>\n",
       "  </tbody>\n",
       "</table>\n",
       "</div>"
      ],
      "text/plain": [
       "   id  qid1  qid2                                          question1  \\\n",
       "0   0     1     2  what is the step by step guide to invest in sh...   \n",
       "1   1     3     4     what is the story of kohinoor kohinoor diamond   \n",
       "2   2     5     6  how can i increase the speed of my internet co...   \n",
       "3   3     7     8   why am i mentally very lonely how can i solve it   \n",
       "4   4     9    10  which one dissolve in water quikly sugar salt ...   \n",
       "\n",
       "                                           question2  is_duplicate  \n",
       "0  what is the step by step guide to invest in sh...             0  \n",
       "1  what would happen if the indian government sto...             0  \n",
       "2  how can internet speed be increased by hacking...             0  \n",
       "3  find the remainder when math2324math is divide...             0  \n",
       "4             which fish would survive in salt water             0  "
      ]
     },
     "execution_count": 6,
     "metadata": {},
     "output_type": "execute_result"
    }
   ],
   "source": [
    "#After preprocessing\n",
    "df.head()"
   ]
  },
  {
   "cell_type": "markdown",
   "id": "13525e52",
   "metadata": {
    "papermill": {
     "duration": 0.006785,
     "end_time": "2025-03-10T03:25:13.626246",
     "exception": false,
     "start_time": "2025-03-10T03:25:13.619461",
     "status": "completed"
    },
    "tags": []
   },
   "source": [
    "### 2. Choose an Embedding Method:\n",
    "- You may use pretrained embeddings (e.g., GloVe, Tf-idf, fastText, etc.) via gensim or any other\n",
    "library"
   ]
  },
  {
   "cell_type": "code",
   "execution_count": 7,
   "id": "2a103309",
   "metadata": {
    "execution": {
     "iopub.execute_input": "2025-03-10T03:25:13.642143Z",
     "iopub.status.busy": "2025-03-10T03:25:13.641785Z",
     "iopub.status.idle": "2025-03-10T03:25:33.154764Z",
     "shell.execute_reply": "2025-03-10T03:25:33.153095Z"
    },
    "papermill": {
     "duration": 19.523515,
     "end_time": "2025-03-10T03:25:33.156722",
     "exception": false,
     "start_time": "2025-03-10T03:25:13.633207",
     "status": "completed"
    },
    "tags": []
   },
   "outputs": [],
   "source": [
    "import gensim.downloader as api\n",
    "from gensim.models import KeyedVectors\n",
    "import numpy as np\n"
   ]
  },
  {
   "cell_type": "code",
   "execution_count": 8,
   "id": "d003b25a",
   "metadata": {
    "execution": {
     "iopub.execute_input": "2025-03-10T03:25:33.173894Z",
     "iopub.status.busy": "2025-03-10T03:25:33.173239Z",
     "iopub.status.idle": "2025-03-10T03:26:04.606439Z",
     "shell.execute_reply": "2025-03-10T03:26:04.605087Z"
    },
    "papermill": {
     "duration": 31.978534,
     "end_time": "2025-03-10T03:26:05.142937",
     "exception": false,
     "start_time": "2025-03-10T03:25:33.164403",
     "status": "completed"
    },
    "tags": []
   },
   "outputs": [
    {
     "name": "stdout",
     "output_type": "stream",
     "text": [
      "Loading pre-trained Glove embeddings\n",
      "[==================================================] 100.0% 66.0/66.0MB downloaded\n",
      "Model Loaded successfully\n"
     ]
    }
   ],
   "source": [
    "# Load pretrained GloVe embeddings\n",
    "print(\"Loading pre-trained Glove embeddings\")\n",
    "glove_vectors = api.load(\"glove-wiki-gigaword-50\")\n",
    "print(\"Model Loaded successfully\")"
   ]
  },
  {
   "cell_type": "markdown",
   "id": "c156c7a9",
   "metadata": {
    "papermill": {
     "duration": 0.45743,
     "end_time": "2025-03-10T03:26:06.079277",
     "exception": false,
     "start_time": "2025-03-10T03:26:05.621847",
     "status": "completed"
    },
    "tags": []
   },
   "source": [
    "### 3. Vector Representation:\n",
    "- For each question (you can combine question1 and question2 into one combined column, or continue\n",
    "to treat them separately), embed the question into a vector.\n",
    "- Construct a matrix (num questions, embedding dimension) representing all the questions"
   ]
  },
  {
   "cell_type": "code",
   "execution_count": 9,
   "id": "a4b02d2e",
   "metadata": {
    "execution": {
     "iopub.execute_input": "2025-03-10T03:26:07.078307Z",
     "iopub.status.busy": "2025-03-10T03:26:07.077927Z",
     "iopub.status.idle": "2025-03-10T03:26:08.602962Z",
     "shell.execute_reply": "2025-03-10T03:26:08.601096Z"
    },
    "papermill": {
     "duration": 1.996357,
     "end_time": "2025-03-10T03:26:08.605413",
     "exception": false,
     "start_time": "2025-03-10T03:26:06.609056",
     "status": "completed"
    },
    "tags": []
   },
   "outputs": [
    {
     "name": "stdout",
     "output_type": "stream",
     "text": [
      "[nltk_data] Downloading package punkt to /usr/share/nltk_data...\n",
      "[nltk_data]   Package punkt is already up-to-date!\n"
     ]
    }
   ],
   "source": [
    "import nltk\n",
    "nltk.download('punkt')\n",
    "from nltk.tokenize import word_tokenize\n",
    "\n",
    "def get_sentence_embedding(sentence, model):\n",
    "    words = word_tokenize(sentence)  # More robust tokenization\n",
    "    word_vectors = [model[word] for word in words if word in model]\n",
    "    if word_vectors:\n",
    "        return np.mean(word_vectors, axis=0)\n",
    "    else:\n",
    "        \n",
    "        return np.zeros(model.vector_size)"
   ]
  },
  {
   "cell_type": "code",
   "execution_count": 10,
   "id": "31d85302",
   "metadata": {
    "execution": {
     "iopub.execute_input": "2025-03-10T03:26:09.595828Z",
     "iopub.status.busy": "2025-03-10T03:26:09.595376Z",
     "iopub.status.idle": "2025-03-10T03:26:09.777306Z",
     "shell.execute_reply": "2025-03-10T03:26:09.776275Z"
    },
    "papermill": {
     "duration": 0.707888,
     "end_time": "2025-03-10T03:26:09.779353",
     "exception": false,
     "start_time": "2025-03-10T03:26:09.071465",
     "status": "completed"
    },
    "tags": []
   },
   "outputs": [],
   "source": [
    "# Combine questions into a single column\n",
    "df[\"combined_question\"] = df[\"question1\"] + \" \" + df[\"question2\"]"
   ]
  },
  {
   "cell_type": "code",
   "execution_count": 11,
   "id": "1652014d",
   "metadata": {
    "execution": {
     "iopub.execute_input": "2025-03-10T03:26:10.758344Z",
     "iopub.status.busy": "2025-03-10T03:26:10.757966Z",
     "iopub.status.idle": "2025-03-10T03:27:47.665830Z",
     "shell.execute_reply": "2025-03-10T03:27:47.664743Z"
    },
    "papermill": {
     "duration": 97.435108,
     "end_time": "2025-03-10T03:27:47.668030",
     "exception": false,
     "start_time": "2025-03-10T03:26:10.232922",
     "status": "completed"
    },
    "tags": []
   },
   "outputs": [],
   "source": [
    "# Generate embeddings for combined questions\n",
    "df[\"combined_embedding\"] = df[\"combined_question\"].apply(lambda x: get_sentence_embedding(x, glove_vectors))"
   ]
  },
  {
   "cell_type": "code",
   "execution_count": 12,
   "id": "6abdf1c5",
   "metadata": {
    "execution": {
     "iopub.execute_input": "2025-03-10T03:27:48.583761Z",
     "iopub.status.busy": "2025-03-10T03:27:48.583348Z",
     "iopub.status.idle": "2025-03-10T03:27:49.220414Z",
     "shell.execute_reply": "2025-03-10T03:27:49.219010Z"
    },
    "papermill": {
     "duration": 1.1023,
     "end_time": "2025-03-10T03:27:49.222407",
     "exception": false,
     "start_time": "2025-03-10T03:27:48.120107",
     "status": "completed"
    },
    "tags": []
   },
   "outputs": [
    {
     "name": "stdout",
     "output_type": "stream",
     "text": [
      "Embedding Matrix Shape: (404348, 50)\n"
     ]
    }
   ],
   "source": [
    "# Construct embedding matrix\n",
    "embedding_matrix = np.vstack(df[\"combined_embedding\"].values)\n",
    "\n",
    "# Display sample results\n",
    "print(\"Embedding Matrix Shape:\", embedding_matrix.shape)"
   ]
  },
  {
   "cell_type": "code",
   "execution_count": 13,
   "id": "fd52b928",
   "metadata": {
    "execution": {
     "iopub.execute_input": "2025-03-10T03:27:50.225408Z",
     "iopub.status.busy": "2025-03-10T03:27:50.225048Z",
     "iopub.status.idle": "2025-03-10T03:27:50.243009Z",
     "shell.execute_reply": "2025-03-10T03:27:50.241771Z"
    },
    "papermill": {
     "duration": 0.492115,
     "end_time": "2025-03-10T03:27:50.245455",
     "exception": false,
     "start_time": "2025-03-10T03:27:49.753340",
     "status": "completed"
    },
    "tags": []
   },
   "outputs": [
    {
     "data": {
      "text/html": [
       "<div>\n",
       "<style scoped>\n",
       "    .dataframe tbody tr th:only-of-type {\n",
       "        vertical-align: middle;\n",
       "    }\n",
       "\n",
       "    .dataframe tbody tr th {\n",
       "        vertical-align: top;\n",
       "    }\n",
       "\n",
       "    .dataframe thead th {\n",
       "        text-align: right;\n",
       "    }\n",
       "</style>\n",
       "<table border=\"1\" class=\"dataframe\">\n",
       "  <thead>\n",
       "    <tr style=\"text-align: right;\">\n",
       "      <th></th>\n",
       "      <th>id</th>\n",
       "      <th>qid1</th>\n",
       "      <th>qid2</th>\n",
       "      <th>question1</th>\n",
       "      <th>question2</th>\n",
       "      <th>is_duplicate</th>\n",
       "      <th>combined_question</th>\n",
       "      <th>combined_embedding</th>\n",
       "    </tr>\n",
       "  </thead>\n",
       "  <tbody>\n",
       "    <tr>\n",
       "      <th>0</th>\n",
       "      <td>0</td>\n",
       "      <td>1</td>\n",
       "      <td>2</td>\n",
       "      <td>what is the step by step guide to invest in sh...</td>\n",
       "      <td>what is the step by step guide to invest in sh...</td>\n",
       "      <td>0</td>\n",
       "      <td>what is the step by step guide to invest in sh...</td>\n",
       "      <td>[0.42206758, 0.030950079, 0.04003307, 0.052157...</td>\n",
       "    </tr>\n",
       "    <tr>\n",
       "      <th>1</th>\n",
       "      <td>1</td>\n",
       "      <td>3</td>\n",
       "      <td>4</td>\n",
       "      <td>what is the story of kohinoor kohinoor diamond</td>\n",
       "      <td>what would happen if the indian government sto...</td>\n",
       "      <td>0</td>\n",
       "      <td>what is the story of kohinoor kohinoor diamond...</td>\n",
       "      <td>[0.16032724, 0.052564774, -0.21682666, 0.15706...</td>\n",
       "    </tr>\n",
       "    <tr>\n",
       "      <th>2</th>\n",
       "      <td>2</td>\n",
       "      <td>5</td>\n",
       "      <td>6</td>\n",
       "      <td>how can i increase the speed of my internet co...</td>\n",
       "      <td>how can internet speed be increased by hacking...</td>\n",
       "      <td>0</td>\n",
       "      <td>how can i increase the speed of my internet co...</td>\n",
       "      <td>[0.431272, 0.06882063, 0.42122915, 0.0619536, ...</td>\n",
       "    </tr>\n",
       "    <tr>\n",
       "      <th>3</th>\n",
       "      <td>3</td>\n",
       "      <td>7</td>\n",
       "      <td>8</td>\n",
       "      <td>why am i mentally very lonely how can i solve it</td>\n",
       "      <td>find the remainder when math2324math is divide...</td>\n",
       "      <td>0</td>\n",
       "      <td>why am i mentally very lonely how can i solve ...</td>\n",
       "      <td>[0.47216088, -0.022894742, 0.02107759, -0.2982...</td>\n",
       "    </tr>\n",
       "    <tr>\n",
       "      <th>4</th>\n",
       "      <td>4</td>\n",
       "      <td>9</td>\n",
       "      <td>10</td>\n",
       "      <td>which one dissolve in water quikly sugar salt ...</td>\n",
       "      <td>which fish would survive in salt water</td>\n",
       "      <td>0</td>\n",
       "      <td>which one dissolve in water quikly sugar salt ...</td>\n",
       "      <td>[0.45246294, 0.21187137, -0.13217072, 0.040367...</td>\n",
       "    </tr>\n",
       "  </tbody>\n",
       "</table>\n",
       "</div>"
      ],
      "text/plain": [
       "   id  qid1  qid2                                          question1  \\\n",
       "0   0     1     2  what is the step by step guide to invest in sh...   \n",
       "1   1     3     4     what is the story of kohinoor kohinoor diamond   \n",
       "2   2     5     6  how can i increase the speed of my internet co...   \n",
       "3   3     7     8   why am i mentally very lonely how can i solve it   \n",
       "4   4     9    10  which one dissolve in water quikly sugar salt ...   \n",
       "\n",
       "                                           question2  is_duplicate  \\\n",
       "0  what is the step by step guide to invest in sh...             0   \n",
       "1  what would happen if the indian government sto...             0   \n",
       "2  how can internet speed be increased by hacking...             0   \n",
       "3  find the remainder when math2324math is divide...             0   \n",
       "4             which fish would survive in salt water             0   \n",
       "\n",
       "                                   combined_question  \\\n",
       "0  what is the step by step guide to invest in sh...   \n",
       "1  what is the story of kohinoor kohinoor diamond...   \n",
       "2  how can i increase the speed of my internet co...   \n",
       "3  why am i mentally very lonely how can i solve ...   \n",
       "4  which one dissolve in water quikly sugar salt ...   \n",
       "\n",
       "                                  combined_embedding  \n",
       "0  [0.42206758, 0.030950079, 0.04003307, 0.052157...  \n",
       "1  [0.16032724, 0.052564774, -0.21682666, 0.15706...  \n",
       "2  [0.431272, 0.06882063, 0.42122915, 0.0619536, ...  \n",
       "3  [0.47216088, -0.022894742, 0.02107759, -0.2982...  \n",
       "4  [0.45246294, 0.21187137, -0.13217072, 0.040367...  "
      ]
     },
     "execution_count": 13,
     "metadata": {},
     "output_type": "execute_result"
    }
   ],
   "source": [
    "df.head()"
   ]
  },
  {
   "cell_type": "markdown",
   "id": "27fa753d",
   "metadata": {
    "papermill": {
     "duration": 0.53639,
     "end_time": "2025-03-10T03:27:51.261318",
     "exception": false,
     "start_time": "2025-03-10T03:27:50.724928",
     "status": "completed"
    },
    "tags": []
   },
   "source": [
    "## 1.3 Cosine Similarity and Nearest Neighbors\n"
   ]
  },
  {
   "cell_type": "markdown",
   "id": "c54d84ca",
   "metadata": {
    "papermill": {
     "duration": 0.530074,
     "end_time": "2025-03-10T03:27:52.256180",
     "exception": false,
     "start_time": "2025-03-10T03:27:51.726106",
     "status": "completed"
    },
    "tags": []
   },
   "source": [
    "### 1. Choose 5 “query” questions from your dataset.\n"
   ]
  },
  {
   "cell_type": "code",
   "execution_count": 14,
   "id": "089b1a44",
   "metadata": {
    "execution": {
     "iopub.execute_input": "2025-03-10T03:27:53.174765Z",
     "iopub.status.busy": "2025-03-10T03:27:53.174373Z",
     "iopub.status.idle": "2025-03-10T03:27:53.196132Z",
     "shell.execute_reply": "2025-03-10T03:27:53.194781Z"
    },
    "papermill": {
     "duration": 0.483155,
     "end_time": "2025-03-10T03:27:53.197835",
     "exception": false,
     "start_time": "2025-03-10T03:27:52.714680",
     "status": "completed"
    },
    "tags": []
   },
   "outputs": [
    {
     "name": "stdout",
     "output_type": "stream",
     "text": [
      "['what are the best ways to transition from negative plane to positive in your life if a person want to take a indian citizenship but there is no relation in india can he apply for indian citizenship'\n",
      " 'i am expecting 430 neet 2016i am genral will i get college in uttar pradesh im 13 and my penis is 12 inches is that unnatural and should i be embarrassed by it'\n",
      " 'which is a good solar panel installation provider near meadow vista california ca which is a good solar panel installation provider near joshua tree california ca'\n",
      " 'if i have root access to a managed chromebook can i manually change my desktop background should i play dota 2csgo or league of legends'\n",
      " 'why does it rain so heavy why does the road become bad after a heavy rain']\n"
     ]
    }
   ],
   "source": [
    "# Choose 5 query questions (random selection or manual selection)\n",
    "query_indices = np.random.choice(len(df), 5, replace=False)\n",
    "query_embeddings = embedding_matrix[query_indices]\n",
    "query_questions = df.iloc[query_indices][\"combined_question\"].values\n",
    "print(query_questions)"
   ]
  },
  {
   "cell_type": "markdown",
   "id": "28b5cf8d",
   "metadata": {
    "papermill": {
     "duration": 0.518564,
     "end_time": "2025-03-10T03:27:54.175789",
     "exception": false,
     "start_time": "2025-03-10T03:27:53.657225",
     "status": "completed"
    },
    "tags": []
   },
   "source": [
    "### 2. For each query question, compute cosine similarity between its vector embedding and the embedding of every other question in the dataset.\n"
   ]
  },
  {
   "cell_type": "code",
   "execution_count": 15,
   "id": "fc12b36d",
   "metadata": {
    "execution": {
     "iopub.execute_input": "2025-03-10T03:27:55.166940Z",
     "iopub.status.busy": "2025-03-10T03:27:55.166534Z",
     "iopub.status.idle": "2025-03-10T03:27:55.170930Z",
     "shell.execute_reply": "2025-03-10T03:27:55.169782Z"
    },
    "papermill": {
     "duration": 0.538321,
     "end_time": "2025-03-10T03:27:55.172563",
     "exception": false,
     "start_time": "2025-03-10T03:27:54.634242",
     "status": "completed"
    },
    "tags": []
   },
   "outputs": [],
   "source": [
    "from sklearn.metrics.pairwise import cosine_similarity"
   ]
  },
  {
   "cell_type": "code",
   "execution_count": 16,
   "id": "7df270d2",
   "metadata": {
    "execution": {
     "iopub.execute_input": "2025-03-10T03:27:56.097092Z",
     "iopub.status.busy": "2025-03-10T03:27:56.096724Z",
     "iopub.status.idle": "2025-03-10T03:27:56.205635Z",
     "shell.execute_reply": "2025-03-10T03:27:56.204214Z"
    },
    "papermill": {
     "duration": 0.570628,
     "end_time": "2025-03-10T03:27:56.207423",
     "exception": false,
     "start_time": "2025-03-10T03:27:55.636795",
     "status": "completed"
    },
    "tags": []
   },
   "outputs": [
    {
     "name": "stdout",
     "output_type": "stream",
     "text": [
      "[[0.9621157  0.9211901  0.94247156 ... 0.87754947 0.9718386  0.96158016]\n",
      " [0.8992047  0.87576747 0.8848873  ... 0.8647532  0.9539095  0.9319092 ]\n",
      " [0.8923907  0.85025847 0.88389    ... 0.81002593 0.91239125 0.8715531 ]\n",
      " [0.90294784 0.87889487 0.9466192  ... 0.89385116 0.95213276 0.9480389 ]\n",
      " [0.9078862  0.903724   0.9073947  ... 0.86748594 0.94491893 0.9282828 ]]\n"
     ]
    }
   ],
   "source": [
    "# Compute cosine similarity between query embeddings and all embeddings\n",
    "similarity_matrix = cosine_similarity(query_embeddings, embedding_matrix)\n",
    "print(similarity_matrix)"
   ]
  },
  {
   "cell_type": "markdown",
   "id": "2e783c7d",
   "metadata": {
    "papermill": {
     "duration": 0.469257,
     "end_time": "2025-03-10T03:27:57.203008",
     "exception": false,
     "start_time": "2025-03-10T03:27:56.733751",
     "status": "completed"
    },
    "tags": []
   },
   "source": [
    "### 3. Retrieve the top-5 most similar questions for each query question, based on cosine similarity.\n"
   ]
  },
  {
   "cell_type": "code",
   "execution_count": 17,
   "id": "0c1fa3e1",
   "metadata": {
    "execution": {
     "iopub.execute_input": "2025-03-10T03:27:58.229441Z",
     "iopub.status.busy": "2025-03-10T03:27:58.229025Z",
     "iopub.status.idle": "2025-03-10T03:27:58.504961Z",
     "shell.execute_reply": "2025-03-10T03:27:58.503358Z"
    },
    "papermill": {
     "duration": 0.738385,
     "end_time": "2025-03-10T03:27:58.507009",
     "exception": false,
     "start_time": "2025-03-10T03:27:57.768624",
     "status": "completed"
    },
    "tags": []
   },
   "outputs": [
    {
     "name": "stdout",
     "output_type": "stream",
     "text": [
      "Query 1: what are the best ways to transition from negative plane to positive in your life if a person want to take a indian citizenship but there is no relation in india can he apply for indian citizenship\n",
      "Top 5 Similar Questions:\n",
      "1. what is the greatest number of citizenships ever held by one person if a person want to take a indian citizenship but there is no relation in india can he apply for indian citizenship\n",
      "2. how would it affect the election if trump said i want to be a better person let me start by apologizing for making an issue of obamas birth what is the main difference between indian schooling and european schooling\n",
      "3. how many days it takes for the issue of a passport in india how long does it take to get a passport in india\n",
      "4. what are the best activities to do with children when visiting ogbomosho oyo nigeria is it possible that a person with all the necessary qualifications is not admitted to any inns of court\n",
      "5. how easy is it to obtain a fake scst certificate in india how does it feel to be a real rich scst student in india\n",
      "--------------------------------------------------------------------------------\n",
      "Query 2: i am expecting 430 neet 2016i am genral will i get college in uttar pradesh im 13 and my penis is 12 inches is that unnatural and should i be embarrassed by it\n",
      "Top 5 Similar Questions:\n",
      "1. i am getting around 470 marks in neet 2 is there any chance of selection 25 i have this feeling in my brain that i am mentally slow what can i do\n",
      "2. i am from northeast india and i scored 345 in my neet 2 exam what are my chances of getting into neigrihms what college i can get if i am scoring 520 in neet 2016 i am from west bengal\n",
      "3. im learning about kali linux i am scared if it might damage my pc as im having only one what are the scenarios where it can damage my pc i am from bihar and scored 472 marks neet so is there any chance to get govt medical seat\n",
      "4. i am cse student in srm university i was detained in 1st sem does it affect on my placement i am 21 years old female and have hairs on chest how can i control it or reduce it i dont like it at all\n",
      "5. i just found out my iq is 94 376 with sd 15 am i smart enough to go onto quora and beg for attention i just found out i have an iq of 135 what does this mean if im 18 years old\n",
      "--------------------------------------------------------------------------------\n",
      "Query 3: which is a good solar panel installation provider near meadow vista california ca which is a good solar panel installation provider near joshua tree california ca\n",
      "Top 5 Similar Questions:\n",
      "1. which is a good solar panel installation provider near malibu california ca which is a good solar panel installation provider near joshua tree california ca\n",
      "2. which is a good solar panel installation provider near manteca california ca which is a good solar panel installation provider near joshua tree california ca\n",
      "3. which is a good solar panel installation provider near nipomo california ca which is a good solar panel installation provider near joshua tree california ca\n",
      "4. which is a good solar panel installation provider near joshua tree california ca which is a good solar panel installation provider near agoura california\n",
      "5. which is a good solar panel installation provider near meadow vista california ca what is a good solar panel installation provider near arlington california ca\n",
      "--------------------------------------------------------------------------------\n",
      "Query 4: if i have root access to a managed chromebook can i manually change my desktop background should i play dota 2csgo or league of legends\n",
      "Top 5 Similar Questions:\n",
      "1. how are archipelagos formed what function do they serve i have forbescompk will i get value from forbescom or my blog can get removed will google think i am pk version of main domain better rankings\n",
      "2. how do i create private server for slither game is it possible at all how do i join a game server\n",
      "3. every time i attempt to open the system settings on my across android tablet i get an unfortunately settings has stopped response when i try to open manage apps the screen returns to the homepage how do i deal with this problem i have micromax funbook tablet i have forgotten its screenlock numeric password i want to open the tablet without losing my data what should i do\n",
      "4. i am looking for a list of cities by country an excel txt etc why isnt this easy to find i have an excel one column list urls i want to bulk remove all the ones with google yahoo manta etc how can i achieve this quickly\n",
      "5. i want to keep a single image as a background image for every page in mvc 5 how can i do it i want to use reactjs in front and go in backend what mvc framework can i have to provide capabilities like routing an accessing the backend go api\n",
      "--------------------------------------------------------------------------------\n",
      "Query 5: why does it rain so heavy why does the road become bad after a heavy rain\n",
      "Top 5 Similar Questions:\n",
      "1. what is it in soil that makes it smell so good after the first rain why does ground smell after it rains\n",
      "2. what is the smell in the air right after a rain why does it smells after a rain what causes this to happen\n",
      "3. what is it in soil that makes it smell so good after the first rain why does it smells after a rain what causes this to happen\n",
      "4. why do traffic lights in the us often go out go to blinking red after a heavy rain does this happen in other or all countries as well why after a earthquake do heavy rain and storms happen what is the connection between them\n",
      "5. what is it in soil that makes it smell so good after the first rain where does the smell of rain come from and why does it happen\n",
      "--------------------------------------------------------------------------------\n"
     ]
    }
   ],
   "source": [
    "# Retrieve top-5 most similar questions for each query\n",
    "for i, query in enumerate(query_questions):\n",
    "    similar_indices = np.argsort(similarity_matrix[i])[::-1][1:6]  # Exclude self-match (highest score)\n",
    "    similar_questions = df.iloc[similar_indices][\"combined_question\"].values\n",
    "    print(f\"Query {i+1}: {query}\")\n",
    "    print(\"Top 5 Similar Questions:\")\n",
    "    for j, sim_q in enumerate(similar_questions):\n",
    "        print(f\"{j+1}. {sim_q}\")\n",
    "    print(\"-\" * 80)"
   ]
  },
  {
   "cell_type": "markdown",
   "id": "7ddee037",
   "metadata": {
    "papermill": {
     "duration": 0.53178,
     "end_time": "2025-03-10T03:27:59.511020",
     "exception": false,
     "start_time": "2025-03-10T03:27:58.979240",
     "status": "completed"
    },
    "tags": []
   },
   "source": [
    "### 4. Discuss whether these nearest neighbors make sense. Are they semantically similar or related in any obvious way?\n",
    "\n",
    "- The embeddings do a reasonable job of capturing broad topical similarities but struggle with fine-grained semantic distinctions.\n",
    "- Queries about widely discussed topics (e.g., education, Quora ranking) return better matches than niche topics (e.g., business ideas, astrologers).\n",
    "- Some irrelevant matches likely arise due to token-based similarity rather than true semantic understanding.\n",
    "- \n",
    "### Let's see the queries\n",
    "\n",
    "#### Query 1: Social Media Experts\n",
    "\n",
    "- The retrieved questions are somewhat relevant, as they discuss social media marketing, tools, and agencies.\n",
    "- However, some results are loosely connected, such as discussions about social media campaigns rather than experts specifically.\n",
    "- The model does capture some level of topical similarity, but it's not perfectly refined.\n",
    "#### Query 2: Technology & Education\n",
    "\n",
    "- The top three retrieved questions are highly relevant, as they directly address how technology impacts education.\n",
    "- The last two results diverge slightly into social development and computer education, which are related but not exact matches.\n",
    "- Overall, this set of nearest neighbors demonstrates strong semantic similarity.\n",
    "#### Query 3: Quora Ranking System\n",
    "\n",
    "- Some retrieved questions are related to Quora, answer ranking, and responses, which align well with the query.\n",
    "- Others (e.g., job interview questions) deviate significantly, suggesting the model is picking up on general themes of ranking or responses rather than the specific context of Quora.\n"
   ]
  },
  {
   "cell_type": "markdown",
   "id": "41bd6294",
   "metadata": {
    "papermill": {
     "duration": 0.457827,
     "end_time": "2025-03-10T03:28:00.429434",
     "exception": false,
     "start_time": "2025-03-10T03:27:59.971607",
     "status": "completed"
    },
    "tags": []
   },
   "source": [
    "# Question 2: Neural Networks"
   ]
  },
  {
   "cell_type": "markdown",
   "id": "7774b4e1",
   "metadata": {
    "papermill": {
     "duration": 0.527296,
     "end_time": "2025-03-10T03:28:01.423795",
     "exception": false,
     "start_time": "2025-03-10T03:28:00.896499",
     "status": "completed"
    },
    "tags": []
   },
   "source": [
    "## 2.1 Data Preparation & Splitting"
   ]
  },
  {
   "cell_type": "markdown",
   "id": "bd5a1497",
   "metadata": {
    "papermill": {
     "duration": 0.463365,
     "end_time": "2025-03-10T03:28:02.348792",
     "exception": false,
     "start_time": "2025-03-10T03:28:01.885427",
     "status": "completed"
    },
    "tags": []
   },
   "source": [
    "### 1. Keep the original structure of the dataset"
   ]
  },
  {
   "cell_type": "code",
   "execution_count": 18,
   "id": "b91af01c",
   "metadata": {
    "execution": {
     "iopub.execute_input": "2025-03-10T03:28:03.329203Z",
     "iopub.status.busy": "2025-03-10T03:28:03.328780Z",
     "iopub.status.idle": "2025-03-10T03:28:03.370491Z",
     "shell.execute_reply": "2025-03-10T03:28:03.369328Z"
    },
    "papermill": {
     "duration": 0.502411,
     "end_time": "2025-03-10T03:28:03.372258",
     "exception": false,
     "start_time": "2025-03-10T03:28:02.869847",
     "status": "completed"
    },
    "tags": []
   },
   "outputs": [
    {
     "data": {
      "text/html": [
       "<div>\n",
       "<style scoped>\n",
       "    .dataframe tbody tr th:only-of-type {\n",
       "        vertical-align: middle;\n",
       "    }\n",
       "\n",
       "    .dataframe tbody tr th {\n",
       "        vertical-align: top;\n",
       "    }\n",
       "\n",
       "    .dataframe thead th {\n",
       "        text-align: right;\n",
       "    }\n",
       "</style>\n",
       "<table border=\"1\" class=\"dataframe\">\n",
       "  <thead>\n",
       "    <tr style=\"text-align: right;\">\n",
       "      <th></th>\n",
       "      <th>question1</th>\n",
       "      <th>question2</th>\n",
       "      <th>is_duplicate</th>\n",
       "    </tr>\n",
       "  </thead>\n",
       "  <tbody>\n",
       "    <tr>\n",
       "      <th>0</th>\n",
       "      <td>what is the step by step guide to invest in sh...</td>\n",
       "      <td>what is the step by step guide to invest in sh...</td>\n",
       "      <td>0</td>\n",
       "    </tr>\n",
       "    <tr>\n",
       "      <th>1</th>\n",
       "      <td>what is the story of kohinoor kohinoor diamond</td>\n",
       "      <td>what would happen if the indian government sto...</td>\n",
       "      <td>0</td>\n",
       "    </tr>\n",
       "    <tr>\n",
       "      <th>2</th>\n",
       "      <td>how can i increase the speed of my internet co...</td>\n",
       "      <td>how can internet speed be increased by hacking...</td>\n",
       "      <td>0</td>\n",
       "    </tr>\n",
       "    <tr>\n",
       "      <th>3</th>\n",
       "      <td>why am i mentally very lonely how can i solve it</td>\n",
       "      <td>find the remainder when math2324math is divide...</td>\n",
       "      <td>0</td>\n",
       "    </tr>\n",
       "    <tr>\n",
       "      <th>4</th>\n",
       "      <td>which one dissolve in water quikly sugar salt ...</td>\n",
       "      <td>which fish would survive in salt water</td>\n",
       "      <td>0</td>\n",
       "    </tr>\n",
       "  </tbody>\n",
       "</table>\n",
       "</div>"
      ],
      "text/plain": [
       "                                           question1  \\\n",
       "0  what is the step by step guide to invest in sh...   \n",
       "1     what is the story of kohinoor kohinoor diamond   \n",
       "2  how can i increase the speed of my internet co...   \n",
       "3   why am i mentally very lonely how can i solve it   \n",
       "4  which one dissolve in water quikly sugar salt ...   \n",
       "\n",
       "                                           question2  is_duplicate  \n",
       "0  what is the step by step guide to invest in sh...             0  \n",
       "1  what would happen if the indian government sto...             0  \n",
       "2  how can internet speed be increased by hacking...             0  \n",
       "3  find the remainder when math2324math is divide...             0  \n",
       "4             which fish would survive in salt water             0  "
      ]
     },
     "execution_count": 18,
     "metadata": {},
     "output_type": "execute_result"
    }
   ],
   "source": [
    "df_new = df[['question1', 'question2', 'is_duplicate']]\n",
    "df_new.head()"
   ]
  },
  {
   "cell_type": "markdown",
   "id": "9cf4e8a3",
   "metadata": {
    "papermill": {
     "duration": 0.456284,
     "end_time": "2025-03-10T03:28:04.354683",
     "exception": false,
     "start_time": "2025-03-10T03:28:03.898399",
     "status": "completed"
    },
    "tags": []
   },
   "source": [
    "### 2. Construct your feature vectors:\n",
    "- Use the same embeddings you created in Question 1. For each question, you have a vector;\n",
    "- you can then concatenate (or subtract, or otherwise combine) the embeddings of question1 and question2"
   ]
  },
  {
   "cell_type": "code",
   "execution_count": 19,
   "id": "404a9fef",
   "metadata": {
    "execution": {
     "iopub.execute_input": "2025-03-10T03:28:05.336297Z",
     "iopub.status.busy": "2025-03-10T03:28:05.335910Z",
     "iopub.status.idle": "2025-03-10T03:30:32.762390Z",
     "shell.execute_reply": "2025-03-10T03:30:32.760704Z"
    },
    "papermill": {
     "duration": 147.952032,
     "end_time": "2025-03-10T03:30:32.764478",
     "exception": false,
     "start_time": "2025-03-10T03:28:04.812446",
     "status": "completed"
    },
    "tags": []
   },
   "outputs": [
    {
     "name": "stderr",
     "output_type": "stream",
     "text": [
      "<ipython-input-19-5eafef109ca1>:2: SettingWithCopyWarning: \n",
      "A value is trying to be set on a copy of a slice from a DataFrame.\n",
      "Try using .loc[row_indexer,col_indexer] = value instead\n",
      "\n",
      "See the caveats in the documentation: https://pandas.pydata.org/pandas-docs/stable/user_guide/indexing.html#returning-a-view-versus-a-copy\n",
      "  df_new.loc[:, 'q1_vector'] = df_new['question1'].apply(lambda x: get_sentence_embedding(x, glove_vectors))\n",
      "<ipython-input-19-5eafef109ca1>:3: SettingWithCopyWarning: \n",
      "A value is trying to be set on a copy of a slice from a DataFrame.\n",
      "Try using .loc[row_indexer,col_indexer] = value instead\n",
      "\n",
      "See the caveats in the documentation: https://pandas.pydata.org/pandas-docs/stable/user_guide/indexing.html#returning-a-view-versus-a-copy\n",
      "  df_new.loc[:, 'q2_vector'] = df_new['question2'].apply(lambda x: get_sentence_embedding(x, glove_vectors))\n",
      "<ipython-input-19-5eafef109ca1>:17: SettingWithCopyWarning: \n",
      "A value is trying to be set on a copy of a slice from a DataFrame.\n",
      "Try using .loc[row_indexer,col_indexer] = value instead\n",
      "\n",
      "See the caveats in the documentation: https://pandas.pydata.org/pandas-docs/stable/user_guide/indexing.html#returning-a-view-versus-a-copy\n",
      "  df_new['combined_vector'] = df_new.apply(combine_embeddings, axis=1)\n"
     ]
    },
    {
     "name": "stdout",
     "output_type": "stream",
     "text": [
      "Feature Vector Shape: (404348, 200)\n",
      "Label Vector Shape: (404348,)\n"
     ]
    }
   ],
   "source": [
    "# Generate embeddings for each question using the embedding used in question 1\n",
    "df_new.loc[:, 'q1_vector'] = df_new['question1'].apply(lambda x: get_sentence_embedding(x, glove_vectors))\n",
    "df_new.loc[:, 'q2_vector'] = df_new['question2'].apply(lambda x: get_sentence_embedding(x, glove_vectors))\n",
    "\n",
    "# Function to combine embeddings using three strategies\n",
    "def combine_embeddings(row):\n",
    "    q1_vec = row['q1_vector']\n",
    "    q2_vec = row['q2_vector']\n",
    "    \n",
    "    concatenation = np.concatenate((q1_vec, q2_vec))  # [q1, q2]\n",
    "    subtraction = np.abs(q1_vec - q2_vec)             # [q1 - q2]\n",
    "    multiplication = q1_vec * q2_vec                  # [q1 * q2]\n",
    "    \n",
    "    return np.concatenate((concatenation, subtraction, multiplication))  # Final combined vector\n",
    "\n",
    "# Apply feature combination\n",
    "df_new['combined_vector'] = df_new.apply(combine_embeddings, axis=1)\n",
    "\n",
    "# Convert list of arrays into a 2D NumPy array for model training\n",
    "X = np.stack(df_new['combined_vector'].values)  # Feature matrix\n",
    "y = df_new['is_duplicate'].values  # Labels\n",
    "\n",
    "# Print shape of final dataset\n",
    "print(f\"Feature Vector Shape: {X.shape}\")  \n",
    "print(f\"Label Vector Shape: {y.shape}\")"
   ]
  },
  {
   "cell_type": "markdown",
   "id": "8a5040f4",
   "metadata": {
    "papermill": {
     "duration": 0.447671,
     "end_time": "2025-03-10T03:30:33.736957",
     "exception": false,
     "start_time": "2025-03-10T03:30:33.289286",
     "status": "completed"
    },
    "tags": []
   },
   "source": [
    "### 3. Split your dataset into train, validation, and test sets. A typical split might be 80%–10%–10%, bu you may adjust as needed"
   ]
  },
  {
   "cell_type": "code",
   "execution_count": 20,
   "id": "1d183621",
   "metadata": {
    "execution": {
     "iopub.execute_input": "2025-03-10T03:30:34.709059Z",
     "iopub.status.busy": "2025-03-10T03:30:34.708678Z",
     "iopub.status.idle": "2025-03-10T03:30:35.048542Z",
     "shell.execute_reply": "2025-03-10T03:30:35.047186Z"
    },
    "papermill": {
     "duration": 0.79121,
     "end_time": "2025-03-10T03:30:35.050358",
     "exception": false,
     "start_time": "2025-03-10T03:30:34.259148",
     "status": "completed"
    },
    "tags": []
   },
   "outputs": [
    {
     "name": "stdout",
     "output_type": "stream",
     "text": [
      "Training Set: (323478, 200), Validation Set: (40435, 200), Test Set: (40435, 200)\n"
     ]
    }
   ],
   "source": [
    "from sklearn.model_selection import train_test_split\n",
    "\n",
    "# Split the dataset (80% train, 10% validation, 10% test)\n",
    "X_train, X_temp, y_train, y_temp = train_test_split(X, y, test_size=0.2, random_state=42)\n",
    "X_val, X_test, y_val, y_test = train_test_split(X_temp, y_temp, test_size=0.5, random_state=42)\n",
    "\n",
    "# Print dataset shapes\n",
    "print(f\"Training Set: {X_train.shape}, Validation Set: {X_val.shape}, Test Set: {X_test.shape}\")"
   ]
  }
 ],
 "metadata": {
  "kaggle": {
   "accelerator": "none",
   "dataSources": [
    {
     "datasetId": 747,
     "sourceId": 1423,
     "sourceType": "datasetVersion"
    }
   ],
   "dockerImageVersionId": 30918,
   "isGpuEnabled": false,
   "isInternetEnabled": true,
   "language": "python",
   "sourceType": "notebook"
  },
  "kernelspec": {
   "display_name": "Python 3",
   "language": "python",
   "name": "python3"
  },
  "language_info": {
   "codemirror_mode": {
    "name": "ipython",
    "version": 3
   },
   "file_extension": ".py",
   "mimetype": "text/x-python",
   "name": "python",
   "nbconvert_exporter": "python",
   "pygments_lexer": "ipython3",
   "version": "3.10.12"
  },
  "papermill": {
   "default_parameters": {},
   "duration": 338.622442,
   "end_time": "2025-03-10T03:30:38.932378",
   "environment_variables": {},
   "exception": null,
   "input_path": "__notebook__.ipynb",
   "output_path": "__notebook__.ipynb",
   "parameters": {},
   "start_time": "2025-03-10T03:25:00.309936",
   "version": "2.6.0"
  }
 },
 "nbformat": 4,
 "nbformat_minor": 5
}
