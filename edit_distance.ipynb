{
 "cells": [
  {
   "cell_type": "markdown",
   "id": "8d77ec92",
   "metadata": {},
   "source": [
    "# Introduction to Edit Distance and Levenshtein Distance"
   ]
  },
  {
   "cell_type": "markdown",
   "id": "d9f78da6",
   "metadata": {},
   "source": [
    "\n",
    "Edit distance is a way of quantifying how dissimilar two strings are by counting the minimum number of operations required to transform one string into the other.\n",
    "\n",
    "The three basic operations in the Levenshtein distance are:\n",
    "1. **Insertion**: Add a character.\n",
    "2. **Deletion**: Remove a character.\n",
    "3. **Substitution**: Replace one character with another.\n",
    "    "
   ]
  },
  {
   "cell_type": "markdown",
   "id": "68d45ac6",
   "metadata": {},
   "source": [
    "## Basic String Editing Examples"
   ]
  },
  {
   "cell_type": "code",
   "execution_count": 1,
   "id": "3c35f21e",
   "metadata": {},
   "outputs": [
    {
     "name": "stdout",
     "output_type": "stream",
     "text": [
      "Original strings:\n",
      "String 1: cat\n",
      "String 2: cut\n",
      "\n",
      "After substituting 'a' with 'u' in 'cat': cut\n",
      "After inserting 's' into 'cat': cast\n",
      "After deleting 't' from 'cut': cu\n"
     ]
    }
   ],
   "source": [
    "\n",
    "# Example strings\n",
    "str1 = \"cat\"\n",
    "str2 = \"cut\"\n",
    "\n",
    "# Demonstrating edit operations\n",
    "print(\"Original strings:\")\n",
    "print(f\"String 1: {str1}\")\n",
    "print(f\"String 2: {str2}\\n\")\n",
    "\n",
    "# Substitution example\n",
    "substituted = str1[:1] + \"u\" + str1[2:]\n",
    "print(f\"After substituting 'a' with 'u' in '{str1}': {substituted}\")\n",
    "\n",
    "# Insertion example\n",
    "inserted = str1[:2] + \"s\" + str1[2:]\n",
    "print(f\"After inserting 's' into '{str1}': {inserted}\")\n",
    "\n",
    "# Deletion example\n",
    "deleted = str2[:2]\n",
    "print(f\"After deleting 't' from '{str2}': {deleted}\")\n",
    "    "
   ]
  },
  {
   "cell_type": "markdown",
   "id": "191bf9b1",
   "metadata": {},
   "source": [
    "## Introducing Levenshtein Distance"
   ]
  },
  {
   "cell_type": "code",
   "execution_count": 2,
   "id": "bf92873f",
   "metadata": {},
   "outputs": [
    {
     "name": "stdout",
     "output_type": "stream",
     "text": [
      "Minimum edit distance between 'kitten' and 'sitting': 5\n"
     ]
    }
   ],
   "source": [
    "def levenshtein_distance(str1, str2):\n",
    "    \"\"\"\n",
    "    Calculate the minimum edit distance between two strings using the Levenshtein algorithm,\n",
    "    with substitution cost set to 2.\n",
    "\n",
    "    Parameters:\n",
    "        str1 (str): The first string.\n",
    "        str2 (str): The second string.\n",
    "\n",
    "    Returns:\n",
    "        int: The minimum edit distance between str1 and str2.\n",
    "    \"\"\"\n",
    "    m, n = len(str1), len(str2)\n",
    "    \n",
    "    # Initialize a (m+1) x (n+1) matrix\n",
    "    dp = [[0] * (n + 1) for _ in range(m + 1)]\n",
    "\n",
    "    # Fill the base cases\n",
    "    for i in range(m + 1):\n",
    "        dp[i][0] = i  # Cost of deleting all characters from str1\n",
    "    for j in range(n + 1):\n",
    "        dp[0][j] = j  # Cost of inserting all characters into str1\n",
    "\n",
    "    # Compute the distances\n",
    "    for i in range(1, m + 1):\n",
    "        for j in range(1, n + 1):\n",
    "            if str1[i - 1] == str2[j - 1]:\n",
    "                cost = 0  # No cost if characters are the same\n",
    "            else:\n",
    "                cost = 2  # Substitution cost\n",
    "\n",
    "            dp[i][j] = min(\n",
    "                dp[i - 1][j] + 1,        # Deletion\n",
    "                dp[i][j - 1] + 1,        # Insertion\n",
    "                dp[i - 1][j - 1] + cost  # Substitution\n",
    "            )\n",
    "\n",
    "    # The final value in the matrix is the edit distance\n",
    "    return dp[m][n]\n",
    "\n",
    "# Example usage\n",
    "str1 = \"kitten\"\n",
    "str2 = \"sitting\"\n",
    "distance = levenshtein_distance(str1, str2)\n",
    "print(f\"Minimum edit distance between '{str1}' and '{str2}': {distance}\")\n"
   ]
  },
  {
   "cell_type": "markdown",
   "id": "917302c6",
   "metadata": {},
   "source": [
    "## Step-by-Step Table Construction"
   ]
  },
  {
   "cell_type": "code",
   "execution_count": 3,
   "id": "f58f94a2",
   "metadata": {},
   "outputs": [
    {
     "name": "stdout",
     "output_type": "stream",
     "text": [
      "Edit distance between '#EXECUTION' and '#INTENTION': 8\n",
      "Edit distance between 'kitten' and 'sitting': 5\n",
      "Edit distance between 'python' and 'python': 0\n",
      "Edit distance between 'flaw' and 'lawn': 2\n",
      "Edit distance between 'hello' and '': 5\n",
      "Edit distance between 'Hello' and 'hello': 2\n"
     ]
    }
   ],
   "source": [
    "# Example 1: Test case from user\n",
    "str1 = \"#EXECUTION\"\n",
    "str2 = \"#INTENTION\"\n",
    "print(f\"Edit distance between '{str1}' and '{str2}': {levenshtein_distance(str1, str2)}\")\n",
    "\n",
    "# Example 2: Simple strings\n",
    "str1 = \"kitten\"\n",
    "str2 = \"sitting\"\n",
    "print(f\"Edit distance between '{str1}' and '{str2}': {levenshtein_distance(str1, str2)}\")\n",
    "\n",
    "# Example 3: Identical strings\n",
    "str1 = \"python\"\n",
    "str2 = \"python\"\n",
    "print(f\"Edit distance between '{str1}' and '{str2}': {levenshtein_distance(str1, str2)}\")\n",
    "\n",
    "# Example 4: Completely different strings\n",
    "str1 = \"flaw\"\n",
    "str2 = \"lawn\"\n",
    "print(f\"Edit distance between '{str1}' and '{str2}': {levenshtein_distance(str1, str2)}\")\n",
    "\n",
    "# Example 5: One string is empty\n",
    "str1 = \"hello\"\n",
    "str2 = \"\"\n",
    "print(f\"Edit distance between '{str1}' and '{str2}': {levenshtein_distance(str1, str2)}\")\n",
    "\n",
    "# Example 6: Case-sensitive strings\n",
    "str1 = \"Hello\"\n",
    "str2 = \"hello\"\n",
    "print(f\"Edit distance between '{str1}' and '{str2}': {levenshtein_distance(str1, str2)}\")\n"
   ]
  },
  {
   "cell_type": "code",
   "execution_count": 4,
   "id": "adb212ae",
   "metadata": {},
   "outputs": [
    {
     "name": "stdout",
     "output_type": "stream",
     "text": [
      "Edit distance between '#EXECUTION' and '#INTENTION': 8\n"
     ]
    }
   ],
   "source": [
    "# nltk min edit distance calculation\n",
    "from nltk.metrics.distance import edit_distance\n",
    "\n",
    "# Example 1: Test case from user\n",
    "str1 = \"#EXECUTION\"\n",
    "str2 = \"#INTENTION\"\n",
    "print(f\"Edit distance between '{str1}' and '{str2}': {edit_distance(str1, str2, substitution_cost=2)}\")"
   ]
  },
  {
   "cell_type": "markdown",
   "id": "3ef05ee5",
   "metadata": {},
   "source": [
    "### Full example with backtrace"
   ]
  },
  {
   "cell_type": "code",
   "execution_count": 5,
   "id": "14ca901e",
   "metadata": {},
   "outputs": [
    {
     "name": "stdout",
     "output_type": "stream",
     "text": [
      "Minimum edit distance between '#INTENTION' and '#EXECUTION': 8\n",
      "\n",
      "#INTENTION: DP Table\n",
      "[0, 1, 2, 3, 4, 5, 6, 7, 8, 9, 10]\n",
      "[1, 0, 1, 2, 3, 4, 5, 6, 7, 8, 9]\n",
      "[2, 1, 2, 3, 4, 5, 6, 7, 6, 7, 8]\n",
      "[3, 2, 3, 4, 5, 6, 7, 8, 7, 8, 7]\n",
      "[4, 3, 4, 5, 6, 7, 8, 7, 8, 9, 8]\n",
      "[5, 4, 3, 4, 5, 6, 7, 8, 9, 10, 9]\n",
      "[6, 5, 4, 5, 6, 7, 8, 9, 10, 11, 10]\n",
      "[7, 6, 5, 6, 7, 8, 9, 8, 9, 10, 11]\n",
      "[8, 7, 6, 7, 8, 9, 10, 9, 8, 9, 10]\n",
      "[9, 8, 7, 8, 9, 10, 11, 10, 9, 8, 9]\n",
      "[10, 9, 8, 9, 10, 11, 12, 11, 10, 9, 8]\n",
      "\n",
      "#EXECUTION: Operation Table\n",
      "['', 'INS', 'INS', 'INS', 'INS', 'INS', 'INS', 'INS', 'INS', 'INS', 'INS']\n",
      "['DEL', 'SUB', 'INS', 'INS', 'INS', 'INS', 'INS', 'INS', 'INS', 'INS', 'INS']\n",
      "['DEL', 'DEL', 'DEL', 'DEL', 'DEL', 'DEL', 'DEL', 'DEL', 'SUB', 'INS', 'INS']\n",
      "['DEL', 'DEL', 'DEL', 'DEL', 'DEL', 'DEL', 'DEL', 'DEL', 'DEL', 'DEL', 'SUB']\n",
      "['DEL', 'DEL', 'DEL', 'DEL', 'DEL', 'DEL', 'DEL', 'SUB', 'DEL', 'DEL', 'DEL']\n",
      "['DEL', 'DEL', 'SUB', 'INS', 'INS', 'INS', 'INS', 'DEL', 'DEL', 'DEL', 'DEL']\n",
      "['DEL', 'DEL', 'DEL', 'DEL', 'DEL', 'DEL', 'DEL', 'DEL', 'DEL', 'DEL', 'DEL']\n",
      "['DEL', 'DEL', 'DEL', 'DEL', 'DEL', 'DEL', 'DEL', 'SUB', 'INS', 'INS', 'DEL']\n",
      "['DEL', 'DEL', 'DEL', 'DEL', 'DEL', 'DEL', 'DEL', 'DEL', 'SUB', 'INS', 'INS']\n",
      "['DEL', 'DEL', 'DEL', 'DEL', 'DEL', 'DEL', 'DEL', 'DEL', 'DEL', 'SUB', 'INS']\n",
      "['DEL', 'DEL', 'DEL', 'DEL', 'DEL', 'DEL', 'DEL', 'DEL', 'DEL', 'DEL', 'SUB']\n",
      "\n",
      "Backtrace of operations:\n",
      "['SUB', 'DEL', 'DEL', 'DEL', 'SUB', 'INS', 'INS', 'INS', 'INS', 'DEL', 'SUB', 'SUB', 'SUB', 'SUB']\n"
     ]
    }
   ],
   "source": [
    "def levenshtein_distance_with_trace(str1, str2):\n",
    "    \"\"\"\n",
    "    Calculate the minimum edit distance between two strings using the Levenshtein algorithm,\n",
    "    with substitution cost set to 2. Also, generates a table of operations for tracing.\n",
    "\n",
    "    Parameters:\n",
    "        str1 (str): The first string.\n",
    "        str2 (str): The second string.\n",
    "\n",
    "    Returns:\n",
    "        tuple: The minimum edit distance and the operation table.\n",
    "    \"\"\"\n",
    "    m, n = len(str1), len(str2)\n",
    "    \n",
    "    # Initialize a (m+1) x (n+1) matrix\n",
    "    dp = [[0] * (n + 1) for _ in range(m + 1)]\n",
    "    operation = [[\"\"] * (n + 1) for _ in range(m + 1)]  # To trace operations\n",
    "\n",
    "    # Fill the base cases\n",
    "    for i in range(m + 1):\n",
    "        dp[i][0] = i  # Cost of deleting all characters from str1\n",
    "        operation[i][0] = \"DEL\" if i > 0 else \"\"  # Mark deletions\n",
    "    for j in range(n + 1):\n",
    "        dp[0][j] = j  # Cost of inserting all characters into str1\n",
    "        operation[0][j] = \"INS\" if j > 0 else \"\"  # Mark insertions\n",
    "\n",
    "    # Compute the distances\n",
    "    for i in range(1, m + 1):\n",
    "        for j in range(1, n + 1):\n",
    "            if str1[i - 1] == str2[j - 1]:\n",
    "                cost = 0  # No cost if characters are the same\n",
    "                operation[i][j] = \"COPY\"\n",
    "            else:\n",
    "                cost = 2  # Substitution cost\n",
    "                operation[i][j] = \"SUB\"\n",
    "\n",
    "            # Select the minimum cost operation\n",
    "            choices = [\n",
    "                (dp[i - 1][j] + 1, \"DEL\"),         # Deletion\n",
    "                (dp[i][j - 1] + 1, \"INS\"),         # Insertion\n",
    "                (dp[i - 1][j - 1] + cost, \"SUB\")   # Substitution\n",
    "            ]\n",
    "            dp[i][j], operation[i][j] = min(choices)\n",
    "\n",
    "    # Backtrace the operations\n",
    "    i, j = m, n\n",
    "    backtrace = []\n",
    "    while i > 0 or j > 0:\n",
    "        backtrace.append(operation[i][j])\n",
    "        if operation[i][j] == \"DEL\":\n",
    "            i -= 1\n",
    "        elif operation[i][j] == \"INS\":\n",
    "            j -= 1\n",
    "        else:  # SUB or COPY\n",
    "            i -= 1\n",
    "            j -= 1\n",
    "    backtrace.reverse()\n",
    "\n",
    "    return dp[m][n], dp, operation, backtrace\n",
    "\n",
    "# Example usage\n",
    "str1 = \"#INTENTION\"\n",
    "str2 = \"#EXECUTION\"\n",
    "distance, dp_table, operation_table, backtrace = levenshtein_distance_with_trace(str1, str2)\n",
    "\n",
    "print(f\"Minimum edit distance between '{str1}' and '{str2}': {distance}\")\n",
    "print(\"\\n#INTENTION: DP Table\")\n",
    "for row in dp_table:\n",
    "    print(row)\n",
    "\n",
    "print(\"\\n#EXECUTION: Operation Table\")\n",
    "for row in operation_table:\n",
    "    print(row)\n",
    "\n",
    "print(\"\\nBacktrace of operations:\")\n",
    "print(backtrace)\n"
   ]
  }
 ],
 "metadata": {
  "language_info": {
   "name": "python"
  }
 },
 "nbformat": 4,
 "nbformat_minor": 5
}
