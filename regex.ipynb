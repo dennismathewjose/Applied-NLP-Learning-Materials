{
 "cells": [
  {
   "cell_type": "markdown",
   "id": "ef418b6d",
   "metadata": {},
   "source": [
    "## 0. Basic String Search for Letters and Patterns"
   ]
  },
  {
   "cell_type": "code",
   "execution_count": 14,
   "id": "45cd8e39",
   "metadata": {},
   "outputs": [
    {
     "name": "stdout",
     "output_type": "stream",
     "text": [
      "'Language' found in the text!\n"
     ]
    }
   ],
   "source": [
    "# Basic string search using the 'in' keyword\n",
    "text = \"Natural Language Processing is amazing!\"\n",
    "pattern = \"Language\"\n",
    "\n",
    "# Check if the pattern exists in the text\n",
    "if pattern in text:\n",
    "    print(f\"'{pattern}' found in the text!\")\n",
    "else:\n",
    "    print(f\"'{pattern}' not found in the text.\")"
   ]
  },
  {
   "cell_type": "code",
   "execution_count": 15,
   "id": "cd51c1ff",
   "metadata": {},
   "outputs": [
    {
     "name": "stdout",
     "output_type": "stream",
     "text": [
      "'NLP' found at position 16.\n"
     ]
    }
   ],
   "source": [
    "# Using str.find() to locate the position of a pattern\n",
    "text = \"I love learning NLP techniques!\"\n",
    "pattern = \"NLP\"\n",
    "\n",
    "# Find the position of the pattern\n",
    "position = text.find(pattern)\n",
    "if position != -1:\n",
    "    print(f\"'{pattern}' found at position {position}.\")\n",
    "else:\n",
    "    print(f\"'{pattern}' not found in the text.\")"
   ]
  },
  {
   "cell_type": "code",
   "execution_count": 16,
   "id": "a1b17067",
   "metadata": {},
   "outputs": [
    {
     "name": "stdout",
     "output_type": "stream",
     "text": [
      "Does the text start with 'Machine'? True\n",
      "Does the text end with 'AI.'? True\n"
     ]
    }
   ],
   "source": [
    "# Using str.startswith() and str.endswith()\n",
    "text = \"Machine learning is a subset of AI.\"\n",
    "print(f\"Does the text start with 'Machine'? {'Machine' in text}\")\n",
    "print(f\"Does the text end with 'AI.'? {text.endswith('AI.')}\")"
   ]
  },
  {
   "cell_type": "markdown",
   "id": "51ddf1b3",
   "metadata": {},
   "source": [
    "# Advanced Regular Expressions"
   ]
  },
  {
   "cell_type": "markdown",
   "id": "35434dfa",
   "metadata": {},
   "source": [
    "Topics:\n",
    "- Disjunctions: (`-`)\n",
    "- Negation in disjunction using carets (`^`)\n",
    "- Aliases for digits, non-digits, alphanumeric, and non-alphanumeric\n",
    "- Whitespace and non-whitespace patterns\n",
    "- The pipe (`|`) symbol for alternation\n",
    "- Wildcard, optionality, repetition (`+`, `*`, `?`, `.`)\n",
    "- Anchors (`^` and `$`)\n",
    "- Backslash (`\\`)"
   ]
  },
  {
   "cell_type": "code",
   "execution_count": 17,
   "id": "493b58b3",
   "metadata": {},
   "outputs": [],
   "source": [
    "# Importing the regex module\n",
    "import re"
   ]
  },
  {
   "cell_type": "markdown",
   "id": "a840735c",
   "metadata": {},
   "source": [
    "## 1. Disjunctions: Brackets and Ranges Using Dash (`-`)"
   ]
  },
  {
   "cell_type": "code",
   "execution_count": 18,
   "id": "a20e125b",
   "metadata": {},
   "outputs": [
    {
     "name": "stdout",
     "output_type": "stream",
     "text": [
      "Matches for '[abc]': ['a', 'b', 'c']\n",
      "Matches for '[a-c]': ['a', 'b', 'c']\n"
     ]
    }
   ],
   "source": [
    "# Brackets allow you to match any one of the characters inside\n",
    "text = \"abcdef\"\n",
    "pattern = \"[abc]\"  # Matches 'a', 'b', or 'c'\n",
    "\n",
    "matches = re.findall(pattern, text)\n",
    "print(f\"Matches for '[abc]': {matches}\")\n",
    "\n",
    "# Using ranges with a dash\n",
    "pattern = \"[a-c]\"  # Equivalent to '[abc]'\n",
    "matches = re.findall(pattern, text)\n",
    "print(f\"Matches for '[a-c]': {matches}\")"
   ]
  },
  {
   "cell_type": "code",
   "execution_count": 19,
   "id": "f646c907",
   "metadata": {},
   "outputs": [
    {
     "name": "stdout",
     "output_type": "stream",
     "text": [
      "Matches for '[123]': ['1', '2', '3']\n",
      "Matches for '[1-3]': ['1', '2', '3']\n"
     ]
    }
   ],
   "source": [
    "# Brackets allow you to match any one of the characters inside\n",
    "text = \"0123456789\"\n",
    "pattern = \"[123]\"  # Matches '1', '2', or '3'\n",
    "\n",
    "matches = re.findall(pattern, text)\n",
    "print(f\"Matches for '[123]': {matches}\")\n",
    "\n",
    "# Using ranges with a dash\n",
    "pattern = \"[1-3]\"  # Equivalent to '[123]'\n",
    "matches = re.findall(pattern, text)\n",
    "print(f\"Matches for '[1-3]': {matches}\")"
   ]
  },
  {
   "cell_type": "markdown",
   "id": "7cf0c54b",
   "metadata": {},
   "source": [
    "## 2. Negation in Disjunction Using Carets (`^`) and Special Characters"
   ]
  },
  {
   "cell_type": "code",
   "execution_count": 20,
   "id": "c83e0ef3",
   "metadata": {},
   "outputs": [
    {
     "name": "stdout",
     "output_type": "stream",
     "text": [
      "Matches for '[^a-c]': ['1', '2', '3', 'D', 'E', 'F', '!', '@', '#']\n",
      "Matches for '[^a-z!@#]': ['1', '2', '3', 'D', 'E', 'F']\n"
     ]
    }
   ],
   "source": [
    "# Using caret (^) to negate a character set\n",
    "text = \"123abcDEF!@#\"\n",
    "pattern = \"[^a-c]\"  # Matches any character except 'a', 'b', or 'c'\n",
    "\n",
    "matches = re.findall(pattern, text)\n",
    "print(f\"Matches for '[^a-c]': {matches}\")\n",
    "\n",
    "pattern = \"[^a-z!@#]\"  # Matches any character that is NOT a lowercase letter or the special characters '!', '@', '#'\n",
    "\n",
    "# Find matches\n",
    "matches = re.findall(pattern, text)\n",
    "print(f\"Matches for '[^a-z!@#]': {matches}\")\n"
   ]
  },
  {
   "cell_type": "markdown",
   "id": "c31943cb",
   "metadata": {},
   "source": [
    "## 3. Aliases for Digits, Non-Digits, Alphanumeric, and Non-Alphanumeric"
   ]
  },
  {
   "cell_type": "code",
   "execution_count": 21,
   "id": "a2cab4e0",
   "metadata": {},
   "outputs": [
    {
     "name": "stdout",
     "output_type": "stream",
     "text": [
      "Digits: ['1', '2', '3']\n",
      "Non-digits: ['a', 'b', 'c', '!', '@', '#']\n",
      "Alphanumeric: ['a', 'b', 'c', '1', '2', '3']\n",
      "Non-alphanumeric: ['!', '@', '#']\n"
     ]
    }
   ],
   "source": [
    "# Using \\d and \\D for digits and non-digits\n",
    "text = \"abc123!@#\"\n",
    "pattern_digits = \"\\d\"  # Matches any digit (0-9)\n",
    "pattern_non_digits = \"\\D\"  # Matches any non-digit\n",
    "\n",
    "print(f\"Digits: {re.findall(pattern_digits, text)}\")\n",
    "print(f\"Non-digits: {re.findall(pattern_non_digits, text)}\")\n",
    "\n",
    "# Using \\w and \\W for alphanumeric and non-alphanumeric\n",
    "pattern_alphanumeric = \"\\w\"  # Matches any alphanumeric character\n",
    "pattern_non_alphanumeric = \"\\W\"  # Matches any non-alphanumeric character\n",
    "\n",
    "print(f\"Alphanumeric: {re.findall(pattern_alphanumeric, text)}\")\n",
    "print(f\"Non-alphanumeric: {re.findall(pattern_non_alphanumeric, text)}\")"
   ]
  },
  {
   "cell_type": "markdown",
   "id": "e350470d",
   "metadata": {},
   "source": [
    "## 4. Whitespace and Non-Whitespace Patterns"
   ]
  },
  {
   "cell_type": "code",
   "execution_count": 22,
   "id": "9b921910",
   "metadata": {},
   "outputs": [
    {
     "name": "stdout",
     "output_type": "stream",
     "text": [
      "Whitespace: [' ', '\\t', ' ', ' ', ' ']\n",
      "Non-whitespace: ['H', 'e', 'l', 'l', 'o', 'W', 'o', 'r', 'l', 'd', 'T', 'h', 'i', 's', 'i', 's', 'a', 't', 'e', 's', 't', '.']\n"
     ]
    }
   ],
   "source": [
    "# Using \\s and \\S for whitespace and non-whitespace\n",
    "text = \"Hello World\\tThis is a test.\"\n",
    "pattern_whitespace = \"\\s\"  # Matches any whitespace character\n",
    "pattern_non_whitespace = \"\\S\"  # Matches any non-whitespace character\n",
    "\n",
    "print(f\"Whitespace: {re.findall(pattern_whitespace, text)}\")\n",
    "print(f\"Non-whitespace: {re.findall(pattern_non_whitespace, text)}\")"
   ]
  },
  {
   "cell_type": "markdown",
   "id": "bfffe956",
   "metadata": {},
   "source": [
    "## 5. Pipe Symbol (`|`) for Alternation"
   ]
  },
  {
   "cell_type": "code",
   "execution_count": 23,
   "id": "24bf0e70",
   "metadata": {},
   "outputs": [
    {
     "name": "stdout",
     "output_type": "stream",
     "text": [
      "Matches for 'cat|dog|bat': ['cat', 'dog', 'bat']\n"
     ]
    }
   ],
   "source": [
    "# Using | to match one of several patterns\n",
    "text = \"cat dog bat\"\n",
    "pattern = \"cat|dog|bat\"  # Matches 'cat', 'dog', or 'bat'\n",
    "\n",
    "matches = re.findall(pattern, text)\n",
    "print(f\"Matches for 'cat|dog|bat': {matches}\")"
   ]
  },
  {
   "cell_type": "markdown",
   "id": "924a505e",
   "metadata": {},
   "source": [
    "## 6. Wildcard, Optionality, and Repetition (`+`, `*`, `?`, `.`)"
   ]
  },
  {
   "cell_type": "code",
   "execution_count": 24,
   "id": "6dc87b3e",
   "metadata": {},
   "outputs": [
    {
     "name": "stdout",
     "output_type": "stream",
     "text": [
      "Wildcard matches: ['cat']\n",
      "Matches for 'a+': ['aaa', 'a', 'aa']\n",
      "Matches for 'a*': ['aaa', '', 'a', '', '', '', 'aa', '', '']\n",
      "Matches for 'ab?': ['a', 'a', 'a', 'ab', 'a', 'a']\n"
     ]
    }
   ],
   "source": [
    "# Using . as a wildcard to match any character\n",
    "text = \"cat dog bat\"\n",
    "pattern = \"c.t\"  # Matches 'cat' or 'cot'\n",
    "\n",
    "matches = re.findall(pattern, text)\n",
    "print(f\"Wildcard matches: {matches}\")\n",
    "\n",
    "# Repetition using +, *, and ?\n",
    "text = \"aaa abc aac\"\n",
    "pattern_plus = \"a+\"  # Matches one or more 'a's\n",
    "pattern_star = \"a*\"  # Matches zero or more 'a's\n",
    "pattern_optional = \"ab?\"  # Matches 'a' followed by zero or one 'b'\n",
    "\n",
    "print(f\"Matches for 'a+': {re.findall(pattern_plus, text)}\")\n",
    "print(f\"Matches for 'a*': {re.findall(pattern_star, text)}\")\n",
    "print(f\"Matches for 'ab?': {re.findall(pattern_optional, text)}\")"
   ]
  },
  {
   "cell_type": "markdown",
   "id": "370944ba",
   "metadata": {},
   "source": [
    "## 7. Anchors (`^` and `$`)"
   ]
  },
  {
   "cell_type": "code",
   "execution_count": 25,
   "id": "39666bde",
   "metadata": {},
   "outputs": [
    {
     "name": "stdout",
     "output_type": "stream",
     "text": [
      "Match at start: <re.Match object; span=(0, 5), match='Hello'>\n",
      "Match at end: <re.Match object; span=(6, 11), match='World'>\n"
     ]
    }
   ],
   "source": [
    "# Using ^ and $ to anchor matches\n",
    "text = \"Hello World\"\n",
    "pattern_start = \"^Hello\"  # Matches 'Hello' at the start of the string\n",
    "pattern_end = \"World$\"  # Matches 'World' at the end of the string\n",
    "\n",
    "print(f\"Match at start: {re.search(pattern_start, text)}\")\n",
    "print(f\"Match at end: {re.search(pattern_end, text)}\")"
   ]
  },
  {
   "cell_type": "markdown",
   "id": "fde22455",
   "metadata": {},
   "source": [
    "## 8. Backslash (`\\`)"
   ]
  },
  {
   "cell_type": "code",
   "execution_count": 26,
   "id": "f1b775b7",
   "metadata": {},
   "outputs": [
    {
     "name": "stdout",
     "output_type": "stream",
     "text": [
      "Matched price: $5.00\n"
     ]
    }
   ],
   "source": [
    "# Using backslash for escaping special characters\n",
    "text = \"Price is $5.00\"\n",
    "pattern = \"\\$\\d+\\.\\d{2}\"  # Matches '$' followed by a number with two decimal places\n",
    "\n",
    "match = re.search(pattern, text)\n",
    "print(f\"Matched price: {match.group()}\")"
   ]
  }
 ],
 "metadata": {
  "language_info": {
   "name": "python"
  }
 },
 "nbformat": 4,
 "nbformat_minor": 5
}
