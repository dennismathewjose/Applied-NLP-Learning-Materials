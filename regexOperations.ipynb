{
  "cells": [
    {
      "cell_type": "markdown",
      "metadata": {
        "id": "view-in-github",
        "colab_type": "text"
      },
      "source": [
        "<a href=\"https://colab.research.google.com/github/dennismathewjose/Applied-NLP-Learning-Materials/blob/main/regexOperations.ipynb\" target=\"_parent\"><img src=\"https://colab.research.google.com/assets/colab-badge.svg\" alt=\"Open In Colab\"/></a>"
      ]
    },
    {
      "cell_type": "markdown",
      "id": "ef418b6d",
      "metadata": {
        "id": "ef418b6d"
      },
      "source": [
        "## 0. Basic String Search for Letters and Patterns"
      ]
    },
    {
      "cell_type": "code",
      "source": [
        "#basic form of searching a text\n",
        "text = \"Basic String search operation without the use of Regex library\"\n",
        "search_text = \"operation\"\n",
        "\n",
        "if search_text in text:\n",
        "    print(f\"'{search_text}' found in the text!\")\n",
        "else:\n",
        "    print(f\"'{search_text}' not found in the text.\")"
      ],
      "metadata": {
        "colab": {
          "base_uri": "https://localhost:8080/"
        },
        "id": "sCJKISAEAn1y",
        "outputId": "f72a020d-09c2-4afb-af71-b25f43514278"
      },
      "id": "sCJKISAEAn1y",
      "execution_count": 1,
      "outputs": [
        {
          "output_type": "stream",
          "name": "stdout",
          "text": [
            "'operation' found in the text!\n"
          ]
        }
      ]
    },
    {
      "cell_type": "code",
      "source": [
        "search_text = \"Operation\"\n",
        "if search_text in text:\n",
        "    print(f\"'{search_text}' found in the text!\")\n",
        "else:\n",
        "    print(f\"'{search_text}' not found in the text.\")\n",
        "\n",
        "#The string Operation is not found in the text because O is capital in the given search text"
      ],
      "metadata": {
        "colab": {
          "base_uri": "https://localhost:8080/"
        },
        "id": "nLPAj4jxBLU9",
        "outputId": "5fbc3da9-2d81-46ae-847e-92c78469bb64"
      },
      "id": "nLPAj4jxBLU9",
      "execution_count": 3,
      "outputs": [
        {
          "output_type": "stream",
          "name": "stdout",
          "text": [
            "'Operation' not found in the text.\n"
          ]
        }
      ]
    },
    {
      "cell_type": "code",
      "execution_count": 4,
      "id": "cd51c1ff",
      "metadata": {
        "id": "cd51c1ff",
        "outputId": "b9003ff7-ced1-452c-8031-a4201e6b0398",
        "colab": {
          "base_uri": "https://localhost:8080/"
        }
      },
      "outputs": [
        {
          "output_type": "stream",
          "name": "stdout",
          "text": [
            "'NLP' found at position 16.\n"
          ]
        }
      ],
      "source": [
        "# Using str.find() to locate the position of a pattern\n",
        "text = \"I love learning NLP techniques!\"\n",
        "pattern = \"NLP\"\n",
        "\n",
        "# Find the position of the pattern\n",
        "position = text.find(pattern)\n",
        "if position != -1:\n",
        "    print(f\"'{pattern}' found at position {position}.\")\n",
        "else:\n",
        "    print(f\"'{pattern}' not found in the text.\")"
      ]
    },
    {
      "cell_type": "code",
      "execution_count": 12,
      "id": "a1b17067",
      "metadata": {
        "id": "a1b17067",
        "outputId": "fc3f92d3-7b98-4813-b36f-f6ba604034e8",
        "colab": {
          "base_uri": "https://localhost:8080/"
        }
      },
      "outputs": [
        {
          "output_type": "stream",
          "name": "stdout",
          "text": [
            "Does the text start with 'Regex'? True\n",
            "Does the text end with 'science'? False\n"
          ]
        }
      ],
      "source": [
        "# Using str.startswith() and str.endswith()\n",
        "text = \"Regex is one of the most useful tools for text processing in computer science\"\n",
        "print(f\"Does the text start with 'Regex'? {text.startswith('Regex')}\")\n",
        "print(f\"Does the text end with 'science'? {text.endswith('science.')}\")\n",
        "\n",
        "#The first one is true because the text starts with Regex\n",
        "#The second one is false because the text does not have a fullstop at the end."
      ]
    },
    {
      "cell_type": "markdown",
      "id": "51ddf1b3",
      "metadata": {
        "id": "51ddf1b3"
      },
      "source": [
        "# Advanced Regular Expressions"
      ]
    },
    {
      "cell_type": "markdown",
      "id": "35434dfa",
      "metadata": {
        "id": "35434dfa"
      },
      "source": [
        "Topics:\n",
        "- Disjunctions: (`-`)\n",
        "- Negation in disjunction using carets (`^`)\n",
        "- Aliases for digits, non-digits, alphanumeric, and non-alphanumeric\n",
        "- Whitespace and non-whitespace patterns\n",
        "- The pipe (`|`) symbol for alternation\n",
        "- Wildcard, optionality, repetition (`+`, `*`, `?`, `.`)\n",
        "- Anchors (`^` and `$`)\n",
        "- Backslash (`\\`)"
      ]
    },
    {
      "cell_type": "code",
      "execution_count": 13,
      "id": "493b58b3",
      "metadata": {
        "id": "493b58b3"
      },
      "outputs": [],
      "source": [
        "# Importing the regex module\n",
        "import re"
      ]
    },
    {
      "cell_type": "markdown",
      "id": "a840735c",
      "metadata": {
        "id": "a840735c"
      },
      "source": [
        "## 1. Disjunctions: Brackets and Ranges Using Dash (`-`)"
      ]
    },
    {
      "cell_type": "code",
      "source": [
        "#Basic regex operation\n",
        "String = \"interesting links to woodchucks and lemurs\"\n",
        "pattern = \"woodchucks\"\n",
        "pattern2 = \"Woodchucks\"\n",
        "\n",
        "print(f\"{re.findall(pattern,String)}\")\n",
        "\n",
        "#Here the regex pattern is case sensitive. So it treats woodchucks and Woodchuck as 2 different strings\n",
        "print(f\"{re.findall(pattern2,String)}\")"
      ],
      "metadata": {
        "colab": {
          "base_uri": "https://localhost:8080/"
        },
        "id": "D0J893RUCrm_",
        "outputId": "c9a45051-8bb6-48bb-ed5f-bc94416616ee"
      },
      "id": "D0J893RUCrm_",
      "execution_count": 26,
      "outputs": [
        {
          "output_type": "stream",
          "name": "stdout",
          "text": [
            "['woodchucks']\n",
            "[]\n"
          ]
        }
      ]
    },
    {
      "cell_type": "code",
      "source": [
        "#Inorder to tackle this problem we can use square brackets /[wW]/\n",
        "String = \"interesting links to woodchucks and lemurs\"\n",
        "pattern = \"[wW]oodchucks\"\n",
        "\n",
        "#the brackets allow you to match any one of the characters inside\n",
        "print(f\"{re.findall(pattern,String)}\")"
      ],
      "metadata": {
        "colab": {
          "base_uri": "https://localhost:8080/"
        },
        "id": "tMamJX4bD7N3",
        "outputId": "0d61d41d-6576-449b-a6e2-513b84590cd1"
      },
      "id": "tMamJX4bD7N3",
      "execution_count": 28,
      "outputs": [
        {
          "output_type": "stream",
          "name": "stdout",
          "text": [
            "['woodchucks']\n"
          ]
        }
      ]
    },
    {
      "cell_type": "code",
      "execution_count": 29,
      "id": "a20e125b",
      "metadata": {
        "id": "a20e125b",
        "outputId": "e5f84021-cb90-415d-a21e-0f300ec26c3d",
        "colab": {
          "base_uri": "https://localhost:8080/"
        }
      },
      "outputs": [
        {
          "output_type": "stream",
          "name": "stdout",
          "text": [
            "Matches for '[abc]': ['a', 'b', 'c']\n",
            "Matches for '[a-c]': ['a', 'b', 'c']\n"
          ]
        }
      ],
      "source": [
        "# Brackets allow you to match any one of the characters inside\n",
        "text = \"abcdef\"\n",
        "pattern = \"[abc]\"  # Matches 'a', 'b', or 'c'\n",
        "\n",
        "matches = re.findall(pattern, text)\n",
        "print(f\"Matches for '[abc]': {matches}\")\n",
        "\n",
        "# Using ranges with a dash\n",
        "pattern = \"[a-c]\"  # Equivalent to '[abc]'\n",
        "matches = re.findall(pattern, text)\n",
        "print(f\"Matches for '[a-c]': {matches}\")"
      ]
    },
    {
      "cell_type": "code",
      "execution_count": 30,
      "id": "f646c907",
      "metadata": {
        "id": "f646c907",
        "outputId": "77a04d23-ade4-4c1f-f26b-158570b6135a",
        "colab": {
          "base_uri": "https://localhost:8080/"
        }
      },
      "outputs": [
        {
          "output_type": "stream",
          "name": "stdout",
          "text": [
            "Matches for '[123]': ['1', '2', '3']\n",
            "Matches for '[1-3]': ['1', '2', '3']\n"
          ]
        }
      ],
      "source": [
        "# Brackets allow you to match any one of the characters inside\n",
        "text = \"0123456789\"\n",
        "pattern = \"[123]\"  # Matches '1', '2', or '3'\n",
        "\n",
        "matches = re.findall(pattern, text)\n",
        "print(f\"Matches for '[123]': {matches}\")\n",
        "\n",
        "# Using ranges with a dash\n",
        "pattern = \"[1-3]\"  # Equivalent to '[123]'\n",
        "matches = re.findall(pattern, text)\n",
        "print(f\"Matches for '[1-3]': {matches}\")"
      ]
    },
    {
      "cell_type": "markdown",
      "id": "7cf0c54b",
      "metadata": {
        "id": "7cf0c54b"
      },
      "source": [
        "## 2. Negation in Disjunction Using Carets (`^`) and Special Characters"
      ]
    },
    {
      "cell_type": "code",
      "execution_count": 32,
      "id": "c83e0ef3",
      "metadata": {
        "id": "c83e0ef3",
        "outputId": "5f3aeba6-9279-40b6-8c75-41466de3c59f",
        "colab": {
          "base_uri": "https://localhost:8080/"
        }
      },
      "outputs": [
        {
          "output_type": "stream",
          "name": "stdout",
          "text": [
            "Matches for '[^a-c]': ['H', 'o', 'w', ' ', 'r', 'e', ' ', 'y', 'o', 'u', '.', ' ', 'H', 'o', 'p', 'e', ' ', 'y', 'o', 'u', ' ', 'r', 'e', ' ', 'd', 'o', 'i', 'n', 'g', ' ', 'g', 'o', 'o', 'd']\n",
            "Matches for '[^a-z!@#]': ['I', ' ', ' ', ' ', '2', '4', ' ', ' ', '2', '0', '2', '5']\n",
            "Matches for '[^0-9]': ['I', ' ', 'w', 'i', 'l', 'l', ' ', 'b', 'e', ' ', ' ', 'y', 'e', 'a', 'r', 's', ' ', 'o', 'l', 'd', '@']\n"
          ]
        }
      ],
      "source": [
        "# Using caret (^) to negate a character set\n",
        "text1 = \"How are you. Hope you are doing good\"\n",
        "text2 = \"I will be 24 years old@2025\"\n",
        "\n",
        "pattern = \"[^a-c]\"  # Matches any character except 'a', 'b', or 'c'\n",
        "\n",
        "matches = re.findall(pattern, text1)\n",
        "print(f\"Matches for '[^a-c]': {matches}\")\n",
        "\n",
        "pattern = \"[^a-z!@#]\"  # Matches any character that is NOT a lowercase letter or the special characters '!', '@', '#'\n",
        "\n",
        "# Find matches\n",
        "matches = re.findall(pattern, text2)\n",
        "print(f\"Matches for '[^a-z!@#]': {matches}\")\n",
        "\n",
        "#omitting the digits\n",
        "pattern = \"[^0-9]\"\n",
        "matches = re.findall(pattern, text2)\n",
        "print(f\"Matches for '[^0-9]': {matches}\")\n"
      ]
    },
    {
      "cell_type": "markdown",
      "id": "c31943cb",
      "metadata": {
        "id": "c31943cb"
      },
      "source": [
        "## 3. Aliases for Digits, Non-Digits, Alphanumeric, and Non-Alphanumeric"
      ]
    },
    {
      "cell_type": "code",
      "execution_count": 35,
      "id": "a2cab4e0",
      "metadata": {
        "id": "a2cab4e0",
        "outputId": "e451422b-067c-475e-937d-c4a97f01fb02",
        "colab": {
          "base_uri": "https://localhost:8080/"
        }
      },
      "outputs": [
        {
          "output_type": "stream",
          "name": "stdout",
          "text": [
            "Digits: ['1', '2', '3']\n",
            "Non-digits: ['a', 'b', 'c', '!', '@', '#']\n",
            "Alphanumeric: ['a', 'b', 'c', '1', '2', '3']\n",
            "Non-alphanumeric: ['!', '@', '#']\n"
          ]
        }
      ],
      "source": [
        "# Using \\d and \\D for digits and non-digits\n",
        "text = \"abc123!@#\"\n",
        "pattern_digits = \"\\d\"  # Matches any digit (0-9)\n",
        "pattern_non_digits = \"\\D\"  # Matches any non-digit\n",
        "\n",
        "print(f\"Digits: {re.findall(pattern_digits, text)}\")\n",
        "print(f\"Non-digits: {re.findall(pattern_non_digits, text)}\")\n",
        "\n",
        "# Using \\w and \\W for alphanumeric and non-alphanumeric\n",
        "pattern_alphanumeric = \"\\w\"  # Matches any alphanumeric character\n",
        "pattern_non_alphanumeric = \"\\W\"  # Matches any non-alphanumeric character\n",
        "\n",
        "print(f\"Alphanumeric: {re.findall(pattern_alphanumeric, text)}\")\n",
        "print(f\"Non-alphanumeric: {re.findall(pattern_non_alphanumeric, text)}\")"
      ]
    },
    {
      "cell_type": "markdown",
      "id": "e350470d",
      "metadata": {
        "id": "e350470d"
      },
      "source": [
        "## 4. Whitespace and Non-Whitespace Patterns"
      ]
    },
    {
      "cell_type": "code",
      "execution_count": 34,
      "id": "9b921910",
      "metadata": {
        "id": "9b921910",
        "outputId": "b337f819-f80e-46ef-f890-66ef5cad07a5",
        "colab": {
          "base_uri": "https://localhost:8080/"
        }
      },
      "outputs": [
        {
          "output_type": "stream",
          "name": "stdout",
          "text": [
            "Whitespace: [' ', '\\t', ' ', ' ', ' ']\n",
            "Non-whitespace: ['H', 'e', 'l', 'l', 'o', 'W', 'o', 'r', 'l', 'd', 'T', 'h', 'i', 's', 'i', 's', 'a', 't', 'e', 's', 't', '.']\n"
          ]
        }
      ],
      "source": [
        "# Using \\s and \\S for whitespace and non-whitespace\n",
        "text = \"Hello World\\tThis is a test.\"\n",
        "pattern_whitespace = \"\\s\"  # Matches any whitespace character\n",
        "pattern_non_whitespace = \"\\S\"  # Matches any non-whitespace character\n",
        "\n",
        "print(f\"Whitespace: {re.findall(pattern_whitespace, text)}\")\n",
        "print(f\"Non-whitespace: {re.findall(pattern_non_whitespace, text)}\")"
      ]
    },
    {
      "cell_type": "markdown",
      "id": "bfffe956",
      "metadata": {
        "id": "bfffe956"
      },
      "source": [
        "## 5. Pipe Symbol (`|`) for Alternation"
      ]
    },
    {
      "cell_type": "code",
      "execution_count": null,
      "id": "24bf0e70",
      "metadata": {
        "id": "24bf0e70",
        "outputId": "61e821b7-3738-4611-d9a9-85ee546c8e89"
      },
      "outputs": [
        {
          "name": "stdout",
          "output_type": "stream",
          "text": [
            "Matches for 'cat|dog|bat': ['cat', 'dog', 'bat']\n"
          ]
        }
      ],
      "source": [
        "# Using | to match one of several patterns\n",
        "text = \"cat dog bat\"\n",
        "pattern = \"cat|dog|bat\"  # Matches 'cat', 'dog', or 'bat'\n",
        "\n",
        "matches = re.findall(pattern, text)\n",
        "print(f\"Matches for 'cat|dog|bat': {matches}\")"
      ]
    },
    {
      "cell_type": "markdown",
      "id": "924a505e",
      "metadata": {
        "id": "924a505e"
      },
      "source": [
        "## 6. Wildcard, Optionality, and Repetition (`+`, `*`, `?`, `.`)"
      ]
    },
    {
      "cell_type": "code",
      "execution_count": null,
      "id": "6dc87b3e",
      "metadata": {
        "id": "6dc87b3e",
        "outputId": "9e8e7ea9-188a-4d57-8b77-391ae2a2f7f4"
      },
      "outputs": [
        {
          "name": "stdout",
          "output_type": "stream",
          "text": [
            "Wildcard matches: ['cat']\n",
            "Matches for 'a+': ['aaa', 'a', 'aa']\n",
            "Matches for 'a*': ['aaa', '', 'a', '', '', '', 'aa', '', '']\n",
            "Matches for 'ab?': ['a', 'a', 'a', 'ab', 'a', 'a']\n"
          ]
        }
      ],
      "source": [
        "# Using . as a wildcard to match any character\n",
        "text = \"cat dog bat\"\n",
        "pattern = \"c.t\"  # Matches 'cat' or 'cot'\n",
        "\n",
        "matches = re.findall(pattern, text)\n",
        "print(f\"Wildcard matches: {matches}\")\n",
        "\n",
        "# Repetition using +, *, and ?\n",
        "text = \"aaa abc aac\"\n",
        "pattern_plus = \"a+\"  # Matches one or more 'a's\n",
        "pattern_star = \"a*\"  # Matches zero or more 'a's\n",
        "pattern_optional = \"ab?\"  # Matches 'a' followed by zero or one 'b'\n",
        "\n",
        "print(f\"Matches for 'a+': {re.findall(pattern_plus, text)}\")\n",
        "print(f\"Matches for 'a*': {re.findall(pattern_star, text)}\")\n",
        "print(f\"Matches for 'ab?': {re.findall(pattern_optional, text)}\")"
      ]
    },
    {
      "cell_type": "markdown",
      "id": "370944ba",
      "metadata": {
        "id": "370944ba"
      },
      "source": [
        "## 7. Anchors (`^` and `$`)"
      ]
    },
    {
      "cell_type": "code",
      "execution_count": null,
      "id": "39666bde",
      "metadata": {
        "id": "39666bde",
        "outputId": "29aa5656-b5b2-45eb-eacb-400ffa63d738"
      },
      "outputs": [
        {
          "name": "stdout",
          "output_type": "stream",
          "text": [
            "Match at start: <re.Match object; span=(0, 5), match='Hello'>\n",
            "Match at end: <re.Match object; span=(6, 11), match='World'>\n"
          ]
        }
      ],
      "source": [
        "# Using ^ and $ to anchor matches\n",
        "text = \"Hello World\"\n",
        "pattern_start = \"^Hello\"  # Matches 'Hello' at the start of the string\n",
        "pattern_end = \"World$\"  # Matches 'World' at the end of the string\n",
        "\n",
        "print(f\"Match at start: {re.search(pattern_start, text)}\")\n",
        "print(f\"Match at end: {re.search(pattern_end, text)}\")"
      ]
    },
    {
      "cell_type": "markdown",
      "id": "fde22455",
      "metadata": {
        "id": "fde22455"
      },
      "source": [
        "## 8. Backslash (`\\`)"
      ]
    },
    {
      "cell_type": "code",
      "execution_count": 36,
      "id": "f1b775b7",
      "metadata": {
        "id": "f1b775b7",
        "outputId": "9036c148-3e63-4f12-99f9-ef1bea3ae24f",
        "colab": {
          "base_uri": "https://localhost:8080/"
        }
      },
      "outputs": [
        {
          "output_type": "stream",
          "name": "stdout",
          "text": [
            "Matched price: $5.00\n"
          ]
        }
      ],
      "source": [
        "# Using backslash for escaping special characters\n",
        "text = \"Price is $5.00\"\n",
        "pattern = \"\\$\\d+\\.\\d{2}\"  # Matches '$' followed by a number with two decimal places\n",
        "\n",
        "match = re.search(pattern, text)\n",
        "print(f\"Matched price: {match.group()}\")"
      ]
    },
    {
      "cell_type": "code",
      "source": [],
      "metadata": {
        "id": "L_Zo3CI9F_jQ"
      },
      "id": "L_Zo3CI9F_jQ",
      "execution_count": null,
      "outputs": []
    }
  ],
  "metadata": {
    "language_info": {
      "name": "python"
    },
    "colab": {
      "provenance": [],
      "include_colab_link": true
    },
    "kernelspec": {
      "name": "python3",
      "display_name": "Python 3"
    }
  },
  "nbformat": 4,
  "nbformat_minor": 5
}